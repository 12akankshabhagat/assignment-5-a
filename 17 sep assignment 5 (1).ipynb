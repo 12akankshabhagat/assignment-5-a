{
 "cells": [
  {
   "cell_type": "markdown",
   "id": "d70c716e-0896-47ca-a5bb-1f2c2dabfe1c",
   "metadata": {},
   "source": [
    "# pyhton assignment 17 sep"
   ]
  },
  {
   "cell_type": "markdown",
   "id": "9e3b81be-f789-4453-87d7-37db7f016b46",
   "metadata": {},
   "source": [
    "## for loop"
   ]
  },
  {
   "cell_type": "markdown",
   "id": "144b3376-d8fe-4f65-b9a8-45a06db46cc9",
   "metadata": {},
   "source": [
    "### 1.Write a Python program to print numbers from 1 to 10 using a for loop."
   ]
  },
  {
   "cell_type": "code",
   "execution_count": 2,
   "id": "c0f885f7-f1d0-4018-b710-e86a0d0584d4",
   "metadata": {},
   "outputs": [
    {
     "name": "stdout",
     "output_type": "stream",
     "text": [
      "1\n",
      "2\n",
      "3\n",
      "4\n",
      "5\n",
      "6\n",
      "7\n",
      "8\n",
      "9\n",
      "10\n"
     ]
    }
   ],
   "source": [
    "for a in range (1,11):\n",
    "    print(a)"
   ]
  },
  {
   "cell_type": "markdown",
   "id": "dcbb3570-afe4-437e-aab5-975603da3ac5",
   "metadata": {},
   "source": [
    "### 2.Explain the difference between a for loop and a while loop in Python."
   ]
  },
  {
   "cell_type": "code",
   "execution_count": 1,
   "id": "0bd38b34-be7b-4f36-b4e3-782e65f78bdc",
   "metadata": {},
   "outputs": [
    {
     "data": {
      "text/plain": [
       "' In python there are two types of loops, 1) For loop  ,  2)while loop\\n\\n1) * For loop: is used to iterate over a sequence of items, such as python tuple, list,string, or range. \\n  loop will execute a block of statements for each item in the sequence.\\n  \\n * used of for loop: used when the number of iterations is known beforehand.\\n \\n 2)While loop : used to repeatedly execute block of statements while condition is true.\\n   the loop will continue to run as long as the condition remeins true.\\n   \\n   used : used when numbers of iterations is not known in advance, and loop continues until certain condition is met.'"
      ]
     },
     "execution_count": 1,
     "metadata": {},
     "output_type": "execute_result"
    }
   ],
   "source": [
    "\"\"\" In python there are two types of loops, 1) For loop  ,  2)while loop\n",
    "\n",
    "1) * For loop: is used to iterate over a sequence of items, such as python tuple, list,string, or range. \n",
    "  loop will execute a block of statements for each item in the sequence.\n",
    "  \n",
    " * used of for loop: used when the number of iterations is known beforehand.\n",
    " \n",
    " 2)While loop : used to repeatedly execute block of statements while condition is true.\n",
    "   the loop will continue to run as long as the condition remeins true.\n",
    "   \n",
    "   used : used when numbers of iterations is not known in advance, and loop continues until certain condition is met.\"\"\"\n",
    " \n",
    "  "
   ]
  },
  {
   "cell_type": "markdown",
   "id": "89b3bc5d-b80f-47a9-bcf0-ed2b7a0941d2",
   "metadata": {},
   "source": [
    "## 3.Write a Python program to calculate the sum of all numbers from 1 to 100 using a for loop.\n"
   ]
  },
  {
   "cell_type": "code",
   "execution_count": 11,
   "id": "875e7bcf-9770-4abc-8224-1799cea3a8ce",
   "metadata": {},
   "outputs": [
    {
     "name": "stdout",
     "output_type": "stream",
     "text": [
      "sum of all numbers from 1 to 100: 5050\n"
     ]
    }
   ],
   "source": [
    "sum_result = 0\n",
    "for number in range(1,101):\n",
    "    sum_result += number \n",
    "print(\"sum of all numbers from 1 to 100:\", sum_result)"
   ]
  },
  {
   "cell_type": "code",
   "execution_count": null,
   "id": "050b924b-2bf5-47d6-b642-73bd5874e454",
   "metadata": {},
   "outputs": [],
   "source": [
    "## 4 How do you iterate through a list using a for loop in Python?"
   ]
  },
  {
   "cell_type": "code",
   "execution_count": null,
   "id": "1e495d69-6e56-4824-a3a9-00fd89950422",
   "metadata": {},
   "outputs": [],
   "source": []
  },
  {
   "cell_type": "markdown",
   "id": "5ed2ee2c-e2c8-4480-8e42-5b962713f3dc",
   "metadata": {},
   "source": [
    "## 5. Write a Python program to find the product of all elements in a list using a for loop."
   ]
  },
  {
   "cell_type": "code",
   "execution_count": 15,
   "id": "fa941463-230f-44a1-9a7e-e6f181834327",
   "metadata": {},
   "outputs": [
    {
     "name": "stdout",
     "output_type": "stream",
     "text": [
      "product of all elements in list :  720\n"
     ]
    }
   ],
   "source": [
    "numbers = [2,3,4,5,6]\n",
    "product_result = 1\n",
    "for number in numbers:\n",
    "    product_result *= number\n",
    "print(\"product of all elements in list : \",product_result)"
   ]
  },
  {
   "cell_type": "markdown",
   "id": "de0112b6-209d-4e76-8216-cdd02d23ef00",
   "metadata": {},
   "source": [
    "## 6.Create a Python program that prints all even numbers from 1 to 20 using a for loop."
   ]
  },
  {
   "cell_type": "code",
   "execution_count": 20,
   "id": "558d5bce-2db8-4107-b71c-0d174c16aefb",
   "metadata": {},
   "outputs": [
    {
     "name": "stdout",
     "output_type": "stream",
     "text": [
      "2\n",
      "4\n",
      "6\n",
      "8\n",
      "10\n",
      "12\n",
      "14\n",
      "16\n",
      "18\n",
      "20\n"
     ]
    }
   ],
   "source": [
    "for n in range(1,21):\n",
    "    if n %2==0:\n",
    "        print(n)"
   ]
  },
  {
   "cell_type": "markdown",
   "id": "60c3243f-7807-4b18-aed0-6f9796096e23",
   "metadata": {},
   "source": [
    "## 7.Write a Python program that calculates the factorial of a number using a for loop."
   ]
  },
  {
   "cell_type": "code",
   "execution_count": 30,
   "id": "be5bca17-cf7e-4967-adf4-fd787dfd53e4",
   "metadata": {},
   "outputs": [
    {
     "name": "stdout",
     "output_type": "stream",
     "text": [
      "fcatorial of 9 is :2\n",
      "fcatorial of 9 is :6\n",
      "fcatorial of 9 is :24\n",
      "fcatorial of 9 is :120\n",
      "fcatorial of 9 is :720\n",
      "fcatorial of 9 is :5040\n",
      "fcatorial of 9 is :40320\n",
      "fcatorial of 9 is :362880\n"
     ]
    }
   ],
   "source": [
    "n = 9\n",
    "fact  = 1\n",
    "for i in range(2, n+1):\n",
    "    fact*=i\n",
    "    print(\"fcatorial of {} is :{}\". format(n,fact))"
   ]
  },
  {
   "cell_type": "markdown",
   "id": "65792741-a3f8-4052-b575-d1e35146b3e1",
   "metadata": {},
   "source": [
    "## 8.How can you iterate through the characters of a string using a for loop in Python?."
   ]
  },
  {
   "cell_type": "code",
   "execution_count": 39,
   "id": "7b802f6a-365c-49eb-9660-a0e3c19e033b",
   "metadata": {},
   "outputs": [
    {
     "name": "stdout",
     "output_type": "stream",
     "text": [
      "a\n",
      "k\n",
      "a\n",
      "n\n",
      "k\n",
      "s\n",
      "h\n",
      "a\n"
     ]
    }
   ],
   "source": [
    "# example\n",
    "string  = \"akanksha\"\n",
    "for char in string:\n",
    "    print(char)"
   ]
  },
  {
   "cell_type": "code",
   "execution_count": 40,
   "id": "d79a55a9-b566-4670-ab80-3dd1e822b95c",
   "metadata": {},
   "outputs": [
    {
     "data": {
      "text/plain": [
       "'  in python string is an iterable sequence of characters.\\nwhen i used for loop it automatically iterates through each element of iterable\\nFor loop takes each charcter in string one by one and assigns it to variable character  during each iteration.\\nInside loop  , i can perform operations based on current charcter.'"
      ]
     },
     "execution_count": 40,
     "metadata": {},
     "output_type": "execute_result"
    }
   ],
   "source": [
    "\"\"\"  in python string is an iterable sequence of characters.\n",
    "when i used for loop it automatically iterates through each element of iterable\n",
    "For loop takes each charcter in string one by one and assigns it to variable character  during each iteration.\n",
    "Inside loop  , i can perform operations based on current charcter.\"\"\""
   ]
  },
  {
   "cell_type": "markdown",
   "id": "57b696f1-fd00-4a0e-b9ba-36e3f806dbe5",
   "metadata": {},
   "source": [
    "## 9.Write a Python program to find the largest number in a list using a for loop.\n"
   ]
  },
  {
   "cell_type": "code",
   "execution_count": 3,
   "id": "ade66e09-b825-4f43-af13-1184ee35ad31",
   "metadata": {},
   "outputs": [
    {
     "name": "stdout",
     "output_type": "stream",
     "text": [
      "largest number in list: 122\n"
     ]
    }
   ],
   "source": [
    "numbers = [12,44,66,22,4,122,50]\n",
    "largest_num = numbers[0]\n",
    "for number in numbers:\n",
    "    if number > largest_num:\n",
    "        largest_num = number\n",
    "print(\"largest number in list:\", largest_num)\n",
    "        "
   ]
  },
  {
   "cell_type": "markdown",
   "id": "1b09f28c-8b44-49b6-ba3b-980dcac1b35e",
   "metadata": {},
   "source": [
    "## 10.Create a Python program that prints the Fibonacci sequence up to a specified limit using a for loop"
   ]
  },
  {
   "cell_type": "code",
   "execution_count": 5,
   "id": "c3c7a68f-9af3-4d7f-a71f-7047abfe99ff",
   "metadata": {},
   "outputs": [
    {
     "name": "stdout",
     "output_type": "stream",
     "text": [
      "fibonacci sequence up to 20 : [0, 1, 1, 2, 3, 5, 8, 13]\n"
     ]
    }
   ],
   "source": [
    "def fibonacci_sequence(limit):\n",
    "    fib_sequence  = [0,1]\n",
    "    for i in range (2,limit):\n",
    "        next_number = fib_sequence[-1] + fib_sequence[-2]\n",
    "        if next_number > limit:\n",
    "            break\n",
    "        fib_sequence.append(next_number)\n",
    "    return fib_sequence\n",
    "sequence_limit= 20\n",
    "fibonacci_result = fibonacci_sequence(sequence_limit)\n",
    "print(\"fibonacci sequence up to\", sequence_limit,\":\",fibonacci_result)"
   ]
  },
  {
   "cell_type": "markdown",
   "id": "f01fdd0a-70cd-4de5-bbed-3d3f2ce72278",
   "metadata": {},
   "source": [
    "## 11.Write a Python program to count the number of vowels in a given string using a for loop."
   ]
  },
  {
   "cell_type": "code",
   "execution_count": 14,
   "id": "d3f6ad02-e5bc-4c98-885a-d9fca0d99b8d",
   "metadata": {},
   "outputs": [
    {
     "name": "stdout",
     "output_type": "stream",
     "text": [
      "the number of vowels in string:  5\n"
     ]
    }
   ],
   "source": [
    "my_string = \"akanksha bhagat\"\n",
    "vowel_count = 0\n",
    "vowels = \"aeiou\"\n",
    "for char in my_string:\n",
    "    if char in vowels:\n",
    "        vowel_count += 1\n",
    "print(\"the number of vowels in string: \", vowel_count)"
   ]
  },
  {
   "cell_type": "markdown",
   "id": "8b676ec1-e463-4c25-97a9-8d1d18b25b6a",
   "metadata": {},
   "source": [
    "## 12.Create a Python program that generates a multiplication table for a given number using a for loop"
   ]
  },
  {
   "cell_type": "code",
   "execution_count": 23,
   "id": "f2baaf3e-2185-479b-9460-932a91b5c864",
   "metadata": {},
   "outputs": [
    {
     "name": "stdin",
     "output_type": "stream",
     "text": [
      "enter number for multiplication table:  5\n"
     ]
    },
    {
     "name": "stdout",
     "output_type": "stream",
     "text": [
      "5 a 1 = 5\n",
      "5 a 2 = 10\n",
      "5 a 3 = 15\n",
      "5 a 4 = 20\n",
      "5 a 5 = 25\n",
      "5 a 6 = 30\n",
      "5 a 7 = 35\n",
      "5 a 8 = 40\n",
      "5 a 9 = 45\n",
      "5 a 10 = 50\n"
     ]
    }
   ],
   "source": [
    "number = int(input(\"enter number for multiplication table: \"))\n",
    "\n",
    "for count in range(1,11):\n",
    "    print(number,'a',count,'=',number*count)"
   ]
  },
  {
   "cell_type": "markdown",
   "id": "03fba74e-f88b-467e-9a43-0a1c70b7d20a",
   "metadata": {},
   "source": [
    "## 13.Write a Python program to reverse a list using a for loop.\n"
   ]
  },
  {
   "cell_type": "code",
   "execution_count": 26,
   "id": "8bbce61b-0ce5-4be2-89ae-48d8a2dddc9f",
   "metadata": {},
   "outputs": [
    {
     "name": "stdout",
     "output_type": "stream",
     "text": [
      "list before reverse :  [1, 2, 3, 4, 5, 6]\n",
      "list after reverse : [1]\n",
      "list after reverse : [2, 1]\n",
      "list after reverse : [3, 2, 1]\n",
      "list after reverse : [4, 3, 2, 1]\n",
      "list after reverse : [5, 4, 3, 2, 1]\n",
      "list after reverse : [6, 5, 4, 3, 2, 1]\n"
     ]
    }
   ],
   "source": [
    "original_list = [1,2,3,4,5,6]\n",
    "print(\"list before reverse : \",original_list)\n",
    "reversed_list = []\n",
    "\n",
    "for value in original_list:\n",
    "    reversed_list = [value] + reversed_list\n",
    "    print(\"list after reverse :\",reversed_list)"
   ]
  },
  {
   "cell_type": "markdown",
   "id": "a845b9e6-7f01-4e91-a9f9-8da443bba64a",
   "metadata": {},
   "source": [
    "## 14 Write a Python program to find the common elements between two lists using a for loop."
   ]
  },
  {
   "cell_type": "code",
   "execution_count": 16,
   "id": "ff8a7a18-031e-44ef-8696-24f98534f0ae",
   "metadata": {},
   "outputs": [
    {
     "name": "stdout",
     "output_type": "stream",
     "text": [
      "Common Elements: [3, 4, 5]\n"
     ]
    }
   ],
   "source": [
    "# Define two lists\n",
    "list1 = [1, 2, 3, 4, 5]\n",
    "list2 = [3, 4, 5, 6, 7]\n",
    "\n",
    "common_elements = []\n",
    "for element in list1:\n",
    "    if element in list2:\n",
    "        common_elements.append(element)\n",
    "print(\"Common Elements:\", common_elements)\n"
   ]
  },
  {
   "cell_type": "code",
   "execution_count": null,
   "id": "cd42a3b3-ff73-4fb5-a4a0-eeb708b6698a",
   "metadata": {},
   "outputs": [],
   "source": []
  },
  {
   "cell_type": "markdown",
   "id": "15b11154-7a3f-4904-8811-f40749358481",
   "metadata": {},
   "source": [
    "## 15.Explain how to use a for loop to iterate through the keys and values of a dictionary in Python."
   ]
  },
  {
   "cell_type": "code",
   "execution_count": 14,
   "id": "0829819b-9424-47a6-9c2c-580fd787b645",
   "metadata": {},
   "outputs": [
    {
     "name": "stdout",
     "output_type": "stream",
     "text": [
      "Key: a, Value: 1\n",
      "Key: b, Value: 2\n",
      "Key: c, Value: 3\n",
      "Key: d, Value: 4\n"
     ]
    }
   ],
   "source": [
    "# Define a dictionary\n",
    "my_dict = {'a': 1, 'b': 2, 'c': 3, 'd': 4}\n",
    "\n",
    "# Iterate through keys and values using items()\n",
    "for key, value in my_dict.items():\n",
    "    print(f\"Key: {key}, Value: {value}\")\n"
   ]
  },
  {
   "cell_type": "code",
   "execution_count": null,
   "id": "fb4777cb-ad83-432e-b8c9-ba1c9c8ab9f9",
   "metadata": {},
   "outputs": [],
   "source": []
  },
  {
   "cell_type": "markdown",
   "id": "1215e4dd-7660-40af-b694-82327891acc0",
   "metadata": {},
   "source": [
    "## 16. Write a Python program to find the GCD (Greatest Common Divisor) of two numbers using a for loop."
   ]
  },
  {
   "cell_type": "code",
   "execution_count": 11,
   "id": "cddf1d1b-861a-4899-a67c-bb7638b074c3",
   "metadata": {},
   "outputs": [
    {
     "name": "stdout",
     "output_type": "stream",
     "text": [
      " the GCD of 25 and 45 is : 5\n"
     ]
    }
   ],
   "source": [
    "def  find_gcd(num1 , num2):\n",
    "    smaller = min(num1 , num2)\n",
    "    for i in range(1, smaller +1):\n",
    "        if num1 % i == 0 and num2 % i == 0:\n",
    "            gcd = i\n",
    "    return gcd\n",
    "number1 = 25\n",
    "number2 = 45\n",
    "\n",
    "gcd_result = find_gcd(number1, number2)\n",
    "print(f\" the GCD of {number1} and {number2} is : { gcd_result}\")\n",
    "                      "
   ]
  },
  {
   "cell_type": "markdown",
   "id": "43a873e3-140c-4f83-85bf-7ee7e2975607",
   "metadata": {},
   "source": [
    "## 17.Create a Python program that checks if a string is a palindrome using a for loop.\n"
   ]
  },
  {
   "cell_type": "code",
   "execution_count": 2,
   "id": "6ec4807e-ff66-4bc8-8e32-11490517a285",
   "metadata": {},
   "outputs": [],
   "source": [
    "def ispalindrome(str):\n",
    "    for i in range(0, int(len(str)/2)):\n",
    "        if str[i] != str[len(str)-i-1]:\n",
    "            return False\n",
    "    return True\n",
    "s = \"malayalam\"\n",
    "ans = ispalindrome(s)"
   ]
  },
  {
   "cell_type": "code",
   "execution_count": null,
   "id": "6d4463d1-a019-4d5f-914c-db9f27cf7ba7",
   "metadata": {},
   "outputs": [],
   "source": []
  },
  {
   "cell_type": "code",
   "execution_count": null,
   "id": "897ad17e-80bf-40d9-bc45-0365311cb852",
   "metadata": {},
   "outputs": [],
   "source": []
  },
  {
   "cell_type": "markdown",
   "id": "27347363-2744-4216-a8a7-da255ccf80dd",
   "metadata": {},
   "source": [
    "## 18.Write a Python program to remove duplicates from a list using a for loop."
   ]
  },
  {
   "cell_type": "code",
   "execution_count": 7,
   "id": "44df3071-e636-4811-b59c-c47fdd27d9cb",
   "metadata": {},
   "outputs": [
    {
     "name": "stdout",
     "output_type": "stream",
     "text": [
      "[1]\n",
      "[1, 2]\n",
      "[1, 2, 3]\n",
      "[1, 2, 3, 4]\n",
      "[1, 2, 3, 4, 5]\n",
      "[1, 2, 3, 4, 5, 6]\n",
      "[1, 2, 3, 4, 5, 6, 7]\n",
      "[1, 2, 3, 4, 5, 6, 7, 8]\n",
      "[1, 2, 3, 4, 5, 6, 7, 8, 44]\n"
     ]
    }
   ],
   "source": [
    "my_list = [1,2,3,4,5,6,7,8,3,7,5,44,2]\n",
    "my_result = []\n",
    "\n",
    "for i in my_list:\n",
    "    if i not in my_result:\n",
    "        my_result.append(i)\n",
    "        print(list(my_result))"
   ]
  },
  {
   "cell_type": "markdown",
   "id": "2a907310-d6e1-4b72-ae9f-b4d9e80eb2db",
   "metadata": {},
   "source": [
    "## 19.Create a Python program that counts the number of words in a sentence using a for loop."
   ]
  },
  {
   "cell_type": "code",
   "execution_count": 4,
   "id": "e0435d47-0dc7-4a95-a09f-7f2a41341575",
   "metadata": {},
   "outputs": [
    {
     "name": "stdin",
     "output_type": "stream",
     "text": [
      "enter sentence good day, great night\n"
     ]
    },
    {
     "name": "stdout",
     "output_type": "stream",
     "text": [
      " the number of words in the sentence is :4\n"
     ]
    }
   ],
   "source": [
    "def count_words(sentence):\n",
    "    word_count = 0\n",
    "    for words in sentence:\n",
    "        if words == ' ':\n",
    "            word_count += 1\n",
    "    word_count += 1\n",
    "    return word_count\n",
    "sentence = input(\"enter sentence\")\n",
    "result = count_words(sentence)\n",
    "print(f\" the number of words in the sentence is :{result}\")\n",
    "            "
   ]
  },
  {
   "cell_type": "markdown",
   "id": "1f268c9d-d5d1-4186-b8ac-57d4482511ff",
   "metadata": {},
   "source": [
    "## 20.Write a Python program to find the sum of all odd numbers from 1 to 50 using a for loop.\n"
   ]
  },
  {
   "cell_type": "code",
   "execution_count": 18,
   "id": "468201f5-46ff-4cbf-bb87-47ee29d33f01",
   "metadata": {},
   "outputs": [
    {
     "name": "stdout",
     "output_type": "stream",
     "text": [
      "the sum of odd number 1 to 50 : 625\n"
     ]
    }
   ],
   "source": [
    "sum_of_odd_numbers = 0\n",
    "for number in range (1,51,2):\n",
    "    sum_of_odd_numbers += number\n",
    "print(f\"the sum of odd number 1 to 50 : {sum_of_odd_numbers}\")"
   ]
  },
  {
   "cell_type": "markdown",
   "id": "7dfb9dfd-e774-45a6-960d-eea27b6b0fae",
   "metadata": {},
   "source": [
    "## 21.Write a Python program that checks if a given year is a leap year using a for loop."
   ]
  },
  {
   "cell_type": "code",
   "execution_count": 13,
   "id": "a439abba-07d6-408d-a8b0-06eb8371e7d9",
   "metadata": {},
   "outputs": [
    {
     "name": "stdin",
     "output_type": "stream",
     "text": [
      "enter the year 2000\n",
      "enter num of years 3\n"
     ]
    },
    {
     "name": "stdout",
     "output_type": "stream",
     "text": [
      "2000 is leap year\n",
      "2001 is  not leap year\n",
      "2002 is  not leap year\n"
     ]
    }
   ],
   "source": [
    "start_year = int(input(\"enter the year\"))\n",
    "total_year = int(input(\"enter num of years\"))\n",
    "\n",
    "for year in range(start_year, start_year + total_year):\n",
    "    if year % 4 == 0:\n",
    "        print(f\"{year} is leap year\")\n",
    "    else:\n",
    "        print(f\"{year} is  not leap year\")"
   ]
  },
  {
   "cell_type": "markdown",
   "id": "a8499569-3db4-451a-99d4-be4ecb4a6d16",
   "metadata": {},
   "source": [
    "## 22.Create a Python program that calculates the square root of a number using a for loop.\n"
   ]
  },
  {
   "cell_type": "code",
   "execution_count": 11,
   "id": "39af486c-5ed7-4c70-88d7-78ace8cecf82",
   "metadata": {},
   "outputs": [
    {
     "name": "stdout",
     "output_type": "stream",
     "text": [
      "the square root of 5 is approximately 2.25\n"
     ]
    }
   ],
   "source": [
    "def calculate_square_root(number):\n",
    "    \n",
    "    for _ in range(20):\n",
    "        guess = number/2.0\n",
    "        guess = 0.5 * (guess + number / guess)\n",
    "    return guess\n",
    "number_to_calculate_square_root = 5\n",
    "\n",
    "result = calculate_square_root(number_to_calculate_square_root) \n",
    "\n",
    "print(f\"the square root of {number_to_calculate_square_root} is approximately {result}\")"
   ]
  },
  {
   "cell_type": "markdown",
   "id": "c6b70354-abb5-44e2-b235-00c721bf8ee3",
   "metadata": {},
   "source": [
    "## 23.Write a Python program to find the LCM (Least Common Multiple) of two numbers using a for loop."
   ]
  },
  {
   "cell_type": "code",
   "execution_count": 24,
   "id": "22b12a14-3cfa-4343-b8be-56beb0002743",
   "metadata": {},
   "outputs": [
    {
     "name": "stdout",
     "output_type": "stream",
     "text": [
      "the lcm of 4 and 16 is : 16\n"
     ]
    }
   ],
   "source": [
    "def find_lcm(num1 , num2):\n",
    "    max_num =max(num1, num2)\n",
    "    for i in range(max_num, num1*num2 + 1, max_num):\n",
    "        if i % num1 == 0 and i % num2 == 0:\n",
    "            return i\n",
    "number1 = 4\n",
    "number2 = 16\n",
    "\n",
    "lcm_result = find_lcm(number1, number2)\n",
    "print(f\"the lcm of {number1} and {number2} is : {lcm_result}\")\n"
   ]
  },
  {
   "cell_type": "markdown",
   "id": "f0196910-7818-400b-9c7a-005c9c8b24e6",
   "metadata": {},
   "source": [
    "# IF ELSE:"
   ]
  },
  {
   "cell_type": "markdown",
   "id": "82643d9c-c28e-43b3-9b6b-a72e28aebf92",
   "metadata": {},
   "source": [
    "## 1.Write a Python program to check if a number is positive, negative, or zero using an if-else statement."
   ]
  },
  {
   "cell_type": "code",
   "execution_count": 37,
   "id": "4a2deb58-7d74-44ef-8575-85db2f0aa267",
   "metadata": {},
   "outputs": [
    {
     "name": "stdin",
     "output_type": "stream",
     "text": [
      "enter a number:  6\n"
     ]
    },
    {
     "name": "stdout",
     "output_type": "stream",
     "text": [
      "number is positive\n"
     ]
    }
   ],
   "source": [
    "num = int(input(\"enter a number: \"))\n",
    "if num >= 0:\n",
    "    if num == 0:\n",
    "        print(\"zero\")\n",
    "    else:\n",
    "        print(\"number is positive\")\n",
    "else:\n",
    "    print(\"number is negative\")"
   ]
  },
  {
   "cell_type": "markdown",
   "id": "ef6259c5-f2c3-4ea5-9bb7-fd838eb9d335",
   "metadata": {},
   "source": [
    "## 2.Create a Python program that checks if a given number is even or odd using an if-else statement.\n"
   ]
  },
  {
   "cell_type": "code",
   "execution_count": 42,
   "id": "eb2f5e4d-78f1-445e-bdca-5a2fd213c7f1",
   "metadata": {},
   "outputs": [
    {
     "name": "stdin",
     "output_type": "stream",
     "text": [
      "enter a number:  4\n"
     ]
    },
    {
     "name": "stdout",
     "output_type": "stream",
     "text": [
      "number is even number\n"
     ]
    }
   ],
   "source": [
    "num = int(input(\"enter a number: \"))\n",
    "if num % 2 == 0:\n",
    "    print(\"number is even number\")\n",
    "else:\n",
    "    print(\"number is odd number\")"
   ]
  },
  {
   "cell_type": "markdown",
   "id": "1a2ddb75-fe17-461a-9cee-e2d96d1f77d5",
   "metadata": {},
   "source": [
    "## 3.How can you use nested if-else statements in Python, and provide an example?\n"
   ]
  },
  {
   "cell_type": "code",
   "execution_count": 13,
   "id": "ada7efbb-85e3-4ad6-b42a-9b55f0b19fbf",
   "metadata": {},
   "outputs": [
    {
     "name": "stdin",
     "output_type": "stream",
     "text": [
      "Enter the exam score:  76\n"
     ]
    },
    {
     "name": "stdout",
     "output_type": "stream",
     "text": [
      "The student's grade is: C\n"
     ]
    }
   ],
   "source": [
    "# Get the exam score from the user\n",
    "exam_score = float(input(\"Enter the exam score: \"))\n",
    "\n",
    "# Determine the grade based on the exam score\n",
    "if exam_score >= 90:\n",
    "    grade = 'A'\n",
    "else:\n",
    "    if exam_score >= 80:\n",
    "        grade = 'B'\n",
    "    else:\n",
    "        if exam_score >= 70:\n",
    "            grade = 'C'\n",
    "        else:\n",
    "            if exam_score >= 60:\n",
    "                grade = 'D'\n",
    "            else:\n",
    "                grade = 'F'\n",
    "\n",
    "# Display the grade\n",
    "print(\"The student's grade is:\", grade)\n"
   ]
  },
  {
   "cell_type": "code",
   "execution_count": null,
   "id": "8af96487-dae9-47cc-adb0-ba3861ea0ad9",
   "metadata": {},
   "outputs": [],
   "source": []
  },
  {
   "cell_type": "markdown",
   "id": "72f410db-a0aa-40ae-b555-8d4819a65ab2",
   "metadata": {},
   "source": [
    "## 4.Write a Python program to determine the largest of three numbers using if-else.\n"
   ]
  },
  {
   "cell_type": "code",
   "execution_count": 50,
   "id": "596ebf78-96f8-45a2-96f7-149c7de314c6",
   "metadata": {},
   "outputs": [
    {
     "name": "stdin",
     "output_type": "stream",
     "text": [
      "enter number 2\n",
      "enter number 4\n",
      "enter number 6\n"
     ]
    },
    {
     "name": "stdout",
     "output_type": "stream",
     "text": [
      "number3 is largest\n"
     ]
    }
   ],
   "source": [
    "num1 = int(input(\"enter number\"))\n",
    "num2= int(input(\"enter number\"))\n",
    "num3 = int(input(\"enter number\"))\n",
    "\n",
    "if num1 > num2 and num1> num3:\n",
    "    print(\"number1 is largest\")\n",
    "    if num2 > num1 and num2 > num3:\n",
    "        print(\"number2 is largest\")\n",
    "else:\n",
    "    print(\"number3 is largest\")\n"
   ]
  },
  {
   "cell_type": "markdown",
   "id": "2c1e99c2-0997-4d53-8192-cc05940d7188",
   "metadata": {},
   "source": [
    "## 5.Write a Python program that calculates the absolute value of a number using if-else.\n"
   ]
  },
  {
   "cell_type": "code",
   "execution_count": 53,
   "id": "bc780e2e-9162-4124-9bda-45e656e9cc54",
   "metadata": {},
   "outputs": [
    {
     "name": "stdin",
     "output_type": "stream",
     "text": [
      "Enter a number:  3\n"
     ]
    },
    {
     "name": "stdout",
     "output_type": "stream",
     "text": [
      "The absolute value of 3.0 is 3.0\n"
     ]
    }
   ],
   "source": [
    "number = float(input(\"Enter a number: \"))\n",
    "\n",
    "if number >= 0:\n",
    "    absolute_value = number\n",
    "else:\n",
    "    absolute_value = -number\n",
    "\n",
    "print(f\"The absolute value of {number} is {absolute_value}\")\n"
   ]
  },
  {
   "cell_type": "markdown",
   "id": "4558e6f1-e726-494d-afdb-0475744e8823",
   "metadata": {},
   "source": [
    "## 6.Create a Python program that checks if a given character is a vowel or consonant using if-else.\n"
   ]
  },
  {
   "cell_type": "code",
   "execution_count": 57,
   "id": "a702e634-75f4-4160-8711-a3d9d27dc120",
   "metadata": {},
   "outputs": [
    {
     "name": "stdin",
     "output_type": "stream",
     "text": [
      "Enter a character:  r\n"
     ]
    },
    {
     "name": "stdout",
     "output_type": "stream",
     "text": [
      "The character 'r' is a consonant.\n"
     ]
    }
   ],
   "source": [
    "character = input(\"Enter a character: \")\n",
    "if character.isalpha() and len(character) == 1:\n",
    "    if character in \"aeiou\":\n",
    "        print(f\"The character '{character}' is a vowel.\")\n",
    "    else:\n",
    "        print(f\"The character '{character}' is a consonant.\")\n",
    "else:\n",
    "    print(\"Please enter a valid single alphabet character.\")\n"
   ]
  },
  {
   "cell_type": "markdown",
   "id": "bae2bc4b-aaf0-4606-b1cc-d71eda423cb5",
   "metadata": {},
   "source": [
    "## 7.Write a Python program to determine if a user is eligible to vote based on their age using if-else."
   ]
  },
  {
   "cell_type": "code",
   "execution_count": 14,
   "id": "c444d134-5d72-4292-a071-4353b9b18c52",
   "metadata": {},
   "outputs": [
    {
     "name": "stdin",
     "output_type": "stream",
     "text": [
      "Enter the age 22\n"
     ]
    },
    {
     "name": "stdout",
     "output_type": "stream",
     "text": [
      "user eligible to vote\n"
     ]
    }
   ],
   "source": [
    "age = int(input(\"Enter the age\"))\n",
    "if age  >= 18:\n",
    "    print(\"user eligible to vote\")\n",
    "else:\n",
    "    print(\"user not eligible to vote\")"
   ]
  },
  {
   "cell_type": "markdown",
   "id": "c6bd55a2-6790-4165-8a0a-465e6a12c175",
   "metadata": {},
   "source": [
    "## 8.Create a Python program that calculates the discount amount based on the purchase amount using if-else."
   ]
  },
  {
   "cell_type": "code",
   "execution_count": 22,
   "id": "c12957f0-8264-4c20-ad7d-e5d82f291adf",
   "metadata": {},
   "outputs": [
    {
     "name": "stdin",
     "output_type": "stream",
     "text": [
      "Enter the purchase amount:  1200\n"
     ]
    },
    {
     "name": "stdout",
     "output_type": "stream",
     "text": [
      "Discount amount: $120.00\n"
     ]
    }
   ],
   "source": [
    "def calculate_discount(purchase_amount):\n",
    "        discount_rate_1 = 0.1  \n",
    "        discount_rate_2 = 0.05 \n",
    "        \n",
    "        if purchase_amount >= 1000:\n",
    "            discount_amount = purchase_amount * discount_rate_1\n",
    "        elif purchase_amount >= 500:\n",
    "            discount_amount = purchase_amount * discount_rate_2\n",
    "        else:\n",
    "            discount_amount = 0  \n",
    "\n",
    "        return discount_amount\n",
    "purchase_amount = float(input(\"Enter the purchase amount: \"))\n",
    "\n",
    "discount = calculate_discount(purchase_amount)\n",
    "print(f\"Discount amount: ${discount:.2f}\")\n"
   ]
  },
  {
   "cell_type": "markdown",
   "id": "7e3cdf76-bac0-47cd-8f6b-95fc9d5a9ab0",
   "metadata": {},
   "source": [
    "## 9.   Write a Python program to check if a number is within a specified range using if-else."
   ]
  },
  {
   "cell_type": "code",
   "execution_count": 33,
   "id": "c060cb14-bad6-45e8-a192-0cfc1d9cb761",
   "metadata": {},
   "outputs": [
    {
     "name": "stdin",
     "output_type": "stream",
     "text": [
      "enter the value 12\n"
     ]
    },
    {
     "name": "stdout",
     "output_type": "stream",
     "text": [
      "value is not in the range\n"
     ]
    }
   ],
   "source": [
    "value = int(input(\"enter the value\"))\n",
    "if value in range(1 ,10):\n",
    "        print(\"value is in the range\")\n",
    "else:\n",
    "        print(\"value is not in the range\")"
   ]
  },
  {
   "cell_type": "markdown",
   "id": "584a8ce8-4564-40ff-a1fa-cee18e3f3a90",
   "metadata": {},
   "source": [
    "## 10.Create a Python program that determines the grade of a student based on their score using if-else."
   ]
  },
  {
   "cell_type": "code",
   "execution_count": 38,
   "id": "2f4ac987-15bb-4bd3-82aa-7e2f96971b49",
   "metadata": {},
   "outputs": [
    {
     "name": "stdin",
     "output_type": "stream",
     "text": [
      "enter score numbers in exam 92\n"
     ]
    },
    {
     "name": "stdout",
     "output_type": "stream",
     "text": [
      "you got an 'A' on the exam\n"
     ]
    }
   ],
   "source": [
    "grade = int(input(\"enter score numbers in exam\"))\n",
    "if grade >= 90:\n",
    "    print(\"you got an 'A' on the exam\")\n",
    "elif grade >= 80:\n",
    "    print(\"you got an 'B' on exam\")\n",
    "elif grade >=70:\n",
    "    print(\"you got an 'C' on exam\")\n",
    "elif grade >= 60:\n",
    "    print(\"you got 'D' on exam\")\n",
    "else:\n",
    "    print(\"you fail in exam\")"
   ]
  },
  {
   "cell_type": "markdown",
   "id": "60f7e846-5077-4fb7-9395-8d50dad9863c",
   "metadata": {},
   "source": [
    "## 11.Write a Python program to check if a string is empty or not using if-else."
   ]
  },
  {
   "cell_type": "code",
   "execution_count": 42,
   "id": "5572c0f6-2a9f-4376-a90c-0d44005a3130",
   "metadata": {},
   "outputs": [
    {
     "name": "stdin",
     "output_type": "stream",
     "text": [
      "Enter a string:  god\n"
     ]
    },
    {
     "name": "stdout",
     "output_type": "stream",
     "text": [
      "The string is not empty.\n"
     ]
    }
   ],
   "source": [
    "user_input = input(\"Enter a string: \")\n",
    "\n",
    "if user_input:\n",
    "    print(\"The string is not empty.\")\n",
    "else:\n",
    "    print(\"The string is empty.\")\n"
   ]
  },
  {
   "cell_type": "markdown",
   "id": "f9963774-5e27-4e8b-a422-6bf34eda90fa",
   "metadata": {},
   "source": [
    "## 12.Create a Python program that identifies the type of a triangle (e.g., equilateral, isosceles, or scalene) based on input values using if-else."
   ]
  },
  {
   "cell_type": "code",
   "execution_count": 60,
   "id": "c58ae81a-edb0-485b-a03c-82dfc13b12cf",
   "metadata": {},
   "outputs": [
    {
     "name": "stdin",
     "output_type": "stream",
     "text": [
      "Enter the length of the first side:  4\n",
      "Enter the length of the second side:  4\n",
      "Enter the length of the third side:  5\n"
     ]
    },
    {
     "name": "stdout",
     "output_type": "stream",
     "text": [
      "The triangle is Isosceles.\n"
     ]
    }
   ],
   "source": [
    "def identify_triangle_type(side1, side2, side3):\n",
    "    if side1 == side2 == side3:\n",
    "        return \"Equilateral\"\n",
    "    elif side1 == side2 or side1 == side3 or side2 == side3:\n",
    "        return \"Isosceles\"\n",
    "    else:\n",
    "        return \"Scalene\"\n",
    "try:\n",
    "    side1 = float(input(\"Enter the length of the first side: \"))\n",
    "    side2 = float(input(\"Enter the length of the second side: \"))\n",
    "    side3 = float(input(\"Enter the length of the third side: \"))\n",
    "\n",
    "    if side1 + side2 > side3 and side1 + side3 > side2 and side2 + side3 > side1:\n",
    "        \n",
    "        triangle_type = identify_triangle_type(side1, side2, side3)\n",
    "        print(f\"The triangle is {triangle_type}.\")\n",
    "    else:\n",
    "        print(\"Invalid input. The input values do not form a valid triangle.\")\n",
    "except ValueError:\n",
    "    print(\"Invalid input. Please enter numeric values for the side lengths.\")\n"
   ]
  },
  {
   "cell_type": "markdown",
   "id": "97f8b8fa-9676-42af-8e64-5060de06bff6",
   "metadata": {},
   "source": [
    "## 13.Write a Python program to determine the day of the week based on a user-provided number using if-else.\n"
   ]
  },
  {
   "cell_type": "code",
   "execution_count": 7,
   "id": "aaa75d5a-c613-4d19-9c8d-5ce1f894e2e1",
   "metadata": {},
   "outputs": [
    {
     "name": "stdin",
     "output_type": "stream",
     "text": [
      "enter the number 4\n"
     ]
    },
    {
     "name": "stdout",
     "output_type": "stream",
     "text": [
      "Thursday\n"
     ]
    }
   ],
   "source": [
    "num = 0\n",
    "num = int(input(\"enter the number\"))\n",
    "if num == 1:\n",
    "    print('Monday')\n",
    "elif num == 2:\n",
    "    print('Tuesday')\n",
    "elif num == 3:\n",
    "     print('Wednesday')\n",
    "elif num == 4:\n",
    "     print('Thursday')\n",
    "elif num == 5:\n",
    "     print('Friday')\n",
    "elif num == 6:\n",
    "    print('Saturday')\n",
    "elif num == 7:\n",
    "    print('Sunday')"
   ]
  },
  {
   "cell_type": "markdown",
   "id": "5d6faf9e-bd63-46d0-95ab-4f3f6bd031ec",
   "metadata": {},
   "source": [
    "## 14.Create a Python program that checks if a given year is a leap year using both if-else and a function"
   ]
  },
  {
   "cell_type": "code",
   "execution_count": 10,
   "id": "e519eeb3-697b-40e5-87f8-9c091c7c6eca",
   "metadata": {},
   "outputs": [
    {
     "name": "stdin",
     "output_type": "stream",
     "text": [
      "Enter a year to check if it's a leap year:  2025\n"
     ]
    },
    {
     "name": "stdout",
     "output_type": "stream",
     "text": [
      "2025 is not a leap year.\n"
     ]
    }
   ],
   "source": [
    "def is_leap_year(year):\n",
    "    if (year % 4 == 0 and year % 100 != 0) or (year % 400 == 0):\n",
    "        return True\n",
    "    else:\n",
    "        return False\n",
    "\n",
    "# Get input from the user\n",
    "try:\n",
    "    year = int(input(\"Enter a year to check if it's a leap year: \"))\n",
    "\n",
    "    # Check if the year is a leap year using the function\n",
    "    if is_leap_year(year):\n",
    "        print(f\"{year} is a leap year.\")\n",
    "    else:\n",
    "        print(f\"{year} is not a leap year.\")\n",
    "except ValueError:\n",
    "    print(\"Invalid input. Please enter a numeric value for the year.\")\n"
   ]
  },
  {
   "cell_type": "markdown",
   "id": "5b6000d8-04c7-46dd-aeb5-45f7cf14a245",
   "metadata": {},
   "source": [
    "## 15.How do you use the \"assert\" statement in Python to add debugging checks within if-else blocks?"
   ]
  },
  {
   "cell_type": "code",
   "execution_count": null,
   "id": "9f3120fc-7836-47a4-8d4c-fde902f383fc",
   "metadata": {},
   "outputs": [],
   "source": []
  },
  {
   "cell_type": "markdown",
   "id": "451a8ac5-7677-44ab-bceb-d973600b043c",
   "metadata": {},
   "source": [
    "## 16.Create a Python program that determines the eligibility of a person for a senior citizen discount based on age using if-else."
   ]
  },
  {
   "cell_type": "code",
   "execution_count": 15,
   "id": "9dd9bbed-9dcf-46df-9e64-fbac8ca5e328",
   "metadata": {},
   "outputs": [
    {
     "name": "stdin",
     "output_type": "stream",
     "text": [
      "Enter your age:  66\n"
     ]
    },
    {
     "name": "stdout",
     "output_type": "stream",
     "text": [
      "Congratulations! You are eligible for a senior citizen discount.\n"
     ]
    }
   ],
   "source": [
    "def check_senior_discount(age):\n",
    "    senior_age_threshold = 60\n",
    "\n",
    "    if age >= senior_age_threshold:\n",
    "        return True\n",
    "    else:\n",
    "        return False\n",
    "\n",
    "# Get input from the user\n",
    "try:\n",
    "    age = int(input(\"Enter your age: \"))\n",
    "\n",
    "    # Check eligibility for senior citizen discount\n",
    "    if check_senior_discount(age):\n",
    "        print(\"Congratulations! You are eligible for a senior citizen discount.\")\n",
    "    else:\n",
    "        print(\"Sorry, you are not eligible for a senior citizen discount.\")\n",
    "except ValueError:\n",
    "    print(\"Invalid input. Please enter a numeric value for the age.\")\n"
   ]
  },
  {
   "cell_type": "markdown",
   "id": "d46d5d42-3db3-40ef-8898-cf67dfc7053b",
   "metadata": {},
   "source": [
    "## 17.Write a Python program to categorize a given character as uppercase, lowercase, or neither using if-else."
   ]
  },
  {
   "cell_type": "code",
   "execution_count": 23,
   "id": "33058850-0d43-46d2-a853-322984f44fbd",
   "metadata": {},
   "outputs": [
    {
     "name": "stdin",
     "output_type": "stream",
     "text": [
      "Enter a character:  AAAAAA\n"
     ]
    },
    {
     "name": "stdout",
     "output_type": "stream",
     "text": [
      "AAAAAA is an uppercase character.\n"
     ]
    }
   ],
   "source": [
    "try:\n",
    "    char = input(\"Enter a character: \")\n",
    "\n",
    "    # Check the cat\n",
    "    if char.isalpha():\n",
    "        if char.islower():\n",
    "            print(f\"{char} is a lowercase character.\")\n",
    "        elif char.isupper():\n",
    "            print(f\"{char} is an uppercase character.\")\n",
    "    else:\n",
    "        print(f\"{char} is neither an uppercase nor a lowercase character.\")\n",
    "except ValueError:\n",
    "    print(\"Invalid input. Please enter a single character.\")\n"
   ]
  },
  {
   "cell_type": "markdown",
   "id": "675b05df-a6fa-4665-9283-aa35ebe49ad4",
   "metadata": {},
   "source": [
    "## 18.Write a Python program to determine the roots of a quadratic equation using if-else."
   ]
  },
  {
   "cell_type": "code",
   "execution_count": 3,
   "id": "8abfe1e8-da0c-4203-b4ea-32b662434c3a",
   "metadata": {},
   "outputs": [
    {
     "name": "stdin",
     "output_type": "stream",
     "text": [
      "Enter a:  4\n",
      "Enter b:  8\n",
      "Enter c:  4\n"
     ]
    },
    {
     "name": "stdout",
     "output_type": "stream",
     "text": [
      "The solution are (-1+0j) and (-1+0j)\n"
     ]
    }
   ],
   "source": [
    "import cmath  \n",
    "a = float(input('Enter a: '))  \n",
    "b = float(input('Enter b: '))  \n",
    "c = float(input('Enter c: '))  \n",
    "  \n",
    "# calculate the discriminant  \n",
    "d = (b**2) - (4*a*c)  \n",
    "  \n",
    "# find two solutions  \n",
    "sol1 = (-b-cmath.sqrt(d))/(2*a)  \n",
    "sol2 = (-b+cmath.sqrt(d))/(2*a)  \n",
    "print('The solution are {0} and {1}'.format(sol1,sol2))   "
   ]
  },
  {
   "cell_type": "markdown",
   "id": "3a75d891-be73-42d1-beab-be0fa706215c",
   "metadata": {},
   "source": [
    "## 19 Create a Python program that checks if a given year is a century year or not using if-else.\n"
   ]
  },
  {
   "cell_type": "code",
   "execution_count": 6,
   "id": "048167b0-785d-4609-995b-737ad74747fe",
   "metadata": {},
   "outputs": [
    {
     "name": "stdin",
     "output_type": "stream",
     "text": [
      "Enter a year:  2000\n"
     ]
    },
    {
     "name": "stdout",
     "output_type": "stream",
     "text": [
      "2000 is a century year.\n"
     ]
    }
   ],
   "source": [
    "def is_century_year(year):\n",
    "    # Check if the year is divisible by 100\n",
    "    if year % 100 == 0:\n",
    "        return f\"{year} is a century year.\"\n",
    "    else:\n",
    "        return f\"{year} is not a century year.\"\n",
    "\n",
    "# Example usage\n",
    "year = int(input(\"Enter a year: \"))\n",
    "result = is_century_year(year)\n",
    "print(result)\n"
   ]
  },
  {
   "cell_type": "markdown",
   "id": "bfd4f837-3498-42cd-8aa6-8e9612d5798d",
   "metadata": {},
   "source": [
    "## 20.Write a Python program to determine if a given number is a perfect square using if-else.\n"
   ]
  },
  {
   "cell_type": "code",
   "execution_count": 3,
   "id": "8899cf9c-4f07-4a7a-84c2-ff06c6d5ced1",
   "metadata": {},
   "outputs": [
    {
     "name": "stdin",
     "output_type": "stream",
     "text": [
      "Enter a number:  4\n"
     ]
    },
    {
     "name": "stdout",
     "output_type": "stream",
     "text": [
      "4 is a perfect square.\n"
     ]
    }
   ],
   "source": [
    "def is_perfect_square(number):\n",
    "    # Check if the square root is an integer\n",
    "    square_root = int(number**0.5)\n",
    "    \n",
    "    if square_root**2 == number:\n",
    "        return f\"{number} is a perfect square.\"\n",
    "    else:\n",
    "        return f\"{number} is not a perfect square.\"\n",
    "\n",
    "# Example usage\n",
    "num = int(input(\"Enter a number: \"))\n",
    "result = is_perfect_square(num)\n",
    "print(result)\n"
   ]
  },
  {
   "cell_type": "markdown",
   "id": "15873114-e429-44a1-9615-06be7401da14",
   "metadata": {},
   "source": [
    "## 21.Explain the purpose of the \"continue\" and \"break\" statements within if-else loops."
   ]
  },
  {
   "cell_type": "code",
   "execution_count": 7,
   "id": "628ce658-3f95-47a9-bf12-fcf46eed2d88",
   "metadata": {},
   "outputs": [
    {
     "data": {
      "text/plain": [
       "' #Continue :The continue statement can be used if you need to skip the current iteration of a for or while loop and move onto the next iteration.\\n    # Break : The break statement can be used if you need to break out of a for or while loop and move onto the next section of code.\\n    '"
      ]
     },
     "execution_count": 7,
     "metadata": {},
     "output_type": "execute_result"
    }
   ],
   "source": [
    "\"\"\" #Continue :The continue statement can be used if you need to skip the current iteration of a for or while loop and move onto the next iteration.\n",
    "    # Break : The break statement can be used if you need to break out of a for or while loop and move onto the next section of code.\n",
    "    \"\"\""
   ]
  },
  {
   "cell_type": "markdown",
   "id": "18f0e11f-9141-4062-bc76-5dfd54b0c015",
   "metadata": {},
   "source": [
    "## 22.Create a Python program that calculates the BMI (Body Mass Index) of a person based on their weight and height using if-else."
   ]
  },
  {
   "cell_type": "code",
   "execution_count": 17,
   "id": "253fcddb-b47f-4925-a089-b3464e027608",
   "metadata": {},
   "outputs": [
    {
     "name": "stdin",
     "output_type": "stream",
     "text": [
      "enter your height in cm:  150\n",
      "enter  your weight in kg:  40\n"
     ]
    },
    {
     "name": "stdout",
     "output_type": "stream",
     "text": [
      "you are underweight\n"
     ]
    }
   ],
   "source": [
    "height = float(input(\"enter your height in cm: \"))\n",
    "weight = float(input(\"enter  your weight in kg: \"))\n",
    "BMI = weight/ (height/100)**2\n",
    "\n",
    "if BMI <= 18.4:\n",
    "      print(\"you are underweight\")\n",
    "elif BMI <= 24.9:\n",
    "      print(\"you are healthy\")\n",
    "else:\n",
    "      print(\"you are overweight\")"
   ]
  },
  {
   "cell_type": "markdown",
   "id": "0dece782-ba56-4579-a1dd-7e8eedb39edd",
   "metadata": {},
   "source": [
    "## 23.How can you use the \"filter()\" function with if-else statements to filter elements from a list?\n"
   ]
  },
  {
   "cell_type": "code",
   "execution_count": 10,
   "id": "683b0e49-5ed0-4113-81b8-19133bf0636e",
   "metadata": {},
   "outputs": [
    {
     "name": "stdout",
     "output_type": "stream",
     "text": [
      "[2, 4, 6, 8, 10, 12, 14]\n"
     ]
    }
   ],
   "source": [
    "# Define a list of numbers,\n",
    "numbers = [1, 2, 3, 4, 5, 6, 7, 8, 9, 10,11,12,13,14,15]\n",
    "\n",
    "# Define a function to filter even and odd numbers using if-else\n",
    "def filter_numbers(x):\n",
    "    if x % 2 == 0:\n",
    "        return True  # Include even numbers\n",
    "    else:\n",
    "        return False  # Exclude odd numbers\n",
    "\n",
    "# Use the filter() function with the filter_numbers function\n",
    "filtered_numbers = filter(filter_numbers, numbers)\n",
    "\n",
    "# Convert the result to a list\n",
    "result_list = list(filtered_numbers)\n",
    "\n",
    "# Print the result\n",
    "print(result_list)\n"
   ]
  },
  {
   "cell_type": "code",
   "execution_count": null,
   "id": "48be1f38-a3b6-48f5-a98d-e160c3b82fd4",
   "metadata": {},
   "outputs": [],
   "source": []
  },
  {
   "cell_type": "markdown",
   "id": "50e11654-95af-4b15-b102-66b85469e79c",
   "metadata": {},
   "source": [
    "## 24.Write a Python program to determine if a given number is prime or not using if-else."
   ]
  },
  {
   "cell_type": "code",
   "execution_count": 4,
   "id": "059d6cdd-f9c3-4d14-a5bd-047b3e55ab1d",
   "metadata": {},
   "outputs": [
    {
     "name": "stdin",
     "output_type": "stream",
     "text": [
      "Enter a number:  3\n"
     ]
    },
    {
     "name": "stdout",
     "output_type": "stream",
     "text": [
      "3 is a prime number.\n"
     ]
    }
   ],
   "source": [
    "def is_prime(number):\n",
    "    if number < 2:\n",
    "        return False\n",
    "    \n",
    "    for i in range(2, int(number**0.5) + 1):\n",
    "        if number % i == 0:\n",
    "            return False \n",
    "    return True\n",
    "# Get input from the user\n",
    "num = int(input(\"Enter a number: \"))\n",
    "\n",
    "if is_prime(num):\n",
    "    print(f\"{num} is a prime number.\")\n",
    "else:\n",
    "    print(f\"{num} is not a prime number.\")\n"
   ]
  },
  {
   "cell_type": "markdown",
   "id": "353239d8-6989-4fa5-8b8e-d5a8e08cba10",
   "metadata": {},
   "source": [
    "# MAP :"
   ]
  },
  {
   "cell_type": "markdown",
   "id": "e2151849-a8eb-4814-9c40-06bc41c6dca3",
   "metadata": {},
   "source": [
    "## 1.Explain the purpose of the `map()` function in Python and provide an example of how it can be used to apply a function to each element of an iterable."
   ]
  },
  {
   "cell_type": "code",
   "execution_count": null,
   "id": "ee75cabf-dbaa-4c28-9fad-f23bd486b72e",
   "metadata": {},
   "outputs": [],
   "source": [
    "\"\"\"The map() function in Python is used to apply a specified function to each item of an iterable (e.g., list, tuple) \n",
    "   and returns an iterator that produces the results."
   ]
  },
  {
   "cell_type": "code",
   "execution_count": 7,
   "id": "3547fc8d-8492-4703-8c83-b9a953c528dc",
   "metadata": {},
   "outputs": [
    {
     "name": "stdout",
     "output_type": "stream",
     "text": [
      "[2, 4, 6, 8, 10]\n"
     ]
    }
   ],
   "source": [
    "# Define a list of numbers\n",
    "numbers = [1, 2, 3, 4, 5]\n",
    "\n",
    "# Define a function to multiply a number\n",
    "def multiply(x):\n",
    "    return x * 2\n",
    "\n",
    "# Use the map() function to multiply element in the list\n",
    "multiply = map(multiply, numbers)\n",
    "\n",
    "# Convert the result to a list\n",
    "result_list = list(multiply)\n",
    "\n",
    "# Print the result\n",
    "print(result_list)\n"
   ]
  },
  {
   "cell_type": "markdown",
   "id": "d153cf6b-7590-4db5-bae6-9740e0929f69",
   "metadata": {},
   "source": [
    "## 2.Write a Python program that uses the `map()` function to square each element of a list of numbers."
   ]
  },
  {
   "cell_type": "code",
   "execution_count": 6,
   "id": "65abd0a7-8b9c-4d47-a407-037c4bb32e32",
   "metadata": {},
   "outputs": [
    {
     "name": "stdout",
     "output_type": "stream",
     "text": [
      "Original List: [4, 5, 6, 7, 8, 9]\n",
      "Squared List: [16, 25, 36, 49, 64, 81]\n"
     ]
    }
   ],
   "source": [
    "def square(x):\n",
    "    return x ** 2\n",
    "\n",
    "numbers = [4,5,6,7,8,9]\n",
    "squared_numbers = list(map(square, numbers))\n",
    "\n",
    "print(\"Original List:\", numbers)\n",
    "print(\"Squared List:\", squared_numbers)\n"
   ]
  },
  {
   "cell_type": "markdown",
   "id": "a9930fed-e5eb-4bc8-972d-b4295f312e06",
   "metadata": {},
   "source": [
    "## 3.How does the `map()` function differ from a list comprehension in Python, and when would you choose one over the other?\n"
   ]
  },
  {
   "cell_type": "code",
   "execution_count": null,
   "id": "5c363102-2b38-4137-aa96-71df38860795",
   "metadata": {},
   "outputs": [],
   "source": [
    "\"\"\" ## The map() function and list comprehensions in Python are both used to transform or apply a function to elements in an iterable. \n",
    "However, they have some differences in terms of syntax, readability, and use cases.\n",
    "\n",
    "## Use map() when you need to apply a function that already exists or when you need the flexibility of applying different functions to the elements.\n",
    "Use list comprehensions when the transformation is simple and can be expressed concisely with an expression.\n",
    "Consider readability and choose the one that makes your code more clear and understandable\n"
   ]
  },
  {
   "cell_type": "code",
   "execution_count": null,
   "id": "bf11ddda-0f50-42fe-93a3-131f67f9db08",
   "metadata": {},
   "outputs": [],
   "source": []
  },
  {
   "cell_type": "markdown",
   "id": "9496a1fa-bec6-4505-a5cd-36f6734bd1fd",
   "metadata": {},
   "source": [
    "## 4.Create a Python program that uses the `map()` function to convert a list of names to uppercase.\n"
   ]
  },
  {
   "cell_type": "code",
   "execution_count": 9,
   "id": "4950ca9b-bc9a-47a0-af59-1e7566ec8d71",
   "metadata": {},
   "outputs": [
    {
     "name": "stdout",
     "output_type": "stream",
     "text": [
      "Original Names: ['Akanksha', 'Bhagat', 'Chakoli', \"dady's girl\"]\n",
      "Uppercase Names: ['AKANKSHA', 'BHAGAT', 'CHAKOLI', \"DADY'S GIRL\"]\n"
     ]
    }
   ],
   "source": [
    "names = [\"Akanksha\", \"Bhagat\", \"Chakoli\",\"dady's girl\"]\n",
    "\n",
    "uppercase_names = list(map(str.upper, names))\n",
    "\n",
    "print(\"Original Names:\", names)\n",
    "print(\"Uppercase Names:\", uppercase_names)\n"
   ]
  },
  {
   "cell_type": "markdown",
   "id": "e7f66333-7e33-440b-b401-038bebb88959",
   "metadata": {},
   "source": [
    "## 5.Write a Python program that uses the `map()` function to calculate the length of each word in a list of strings."
   ]
  },
  {
   "cell_type": "code",
   "execution_count": 15,
   "id": "b1beba62-d282-4740-93e1-4d1f905ff483",
   "metadata": {},
   "outputs": [
    {
     "name": "stdout",
     "output_type": "stream",
     "text": [
      "Original Words: ['Akanksha', 'Bhagat', 'Chakoli', \"dady's girl\"]\n",
      "Word Lengths: [8, 6, 7, 11]\n"
     ]
    }
   ],
   "source": [
    "# List of strings\n",
    "words = [\"Akanksha\", \"Bhagat\", \"Chakoli\",\"dady's girl\"]\n",
    "\n",
    "# Use map() to calculate the length of each word\n",
    "word_lengths = list(map(len, words))\n",
    "\n",
    "# Print the original list and the corresponding word lengths\n",
    "print(\"Original Words:\", words)\n",
    "print(\"Word Lengths:\", word_lengths)\n"
   ]
  },
  {
   "cell_type": "markdown",
   "id": "d8c8c1bd-d214-45b0-b4e5-5d89f4e164cf",
   "metadata": {},
   "source": [
    "## 6.How can you use the `map()` function to apply a custom function to elements of multiple lists simultaneously in Python?"
   ]
  },
  {
   "cell_type": "code",
   "execution_count": 4,
   "id": "d16897e6-4133-4918-9fd7-2dda86cdda41",
   "metadata": {},
   "outputs": [
    {
     "name": "stdout",
     "output_type": "stream",
     "text": [
      "Result of multiplying corresponding elements: [32, 45, 36]\n"
     ]
    }
   ],
   "source": [
    "def multiply_lists(a, b):\n",
    "    return a * b\n",
    "\n",
    "list_a = [4,5,6]\n",
    "list_b = [8,9,6]\n",
    "\n",
    "result = list(map(multiply_lists, list_a, list_b))\n",
    "\n",
    "print(\"Result of multiplying corresponding elements:\", result)\n"
   ]
  },
  {
   "cell_type": "markdown",
   "id": "981b10f4-34d5-46ab-b9cf-39b578a211f7",
   "metadata": {},
   "source": [
    "## 7.Create a Python program that uses `map()` to convert a list of temperatures from Celsius to Fahrenheit."
   ]
  },
  {
   "cell_type": "code",
   "execution_count": 6,
   "id": "cc9b2b27-cc21-4be1-96ea-61347e7bec60",
   "metadata": {},
   "outputs": [
    {
     "name": "stdout",
     "output_type": "stream",
     "text": [
      "Temperatures in Celsius: [20, 30, 40]\n",
      "Temperatures in Fahrenheit: [68.0, 86.0, 104.0]\n"
     ]
    }
   ],
   "source": [
    "def celsius_to_fahrenheit(celsius):\n",
    "    return celsius * 9/5 + 32\n",
    "\n",
    "temperatures_celsius = [20, 30, 40]\n",
    "\n",
    "temperatures_fahrenheit = list(map(celsius_to_fahrenheit, temperatures_celsius))\n",
    "\n",
    "print(\"Temperatures in Celsius:\", temperatures_celsius)\n",
    "print(\"Temperatures in Fahrenheit:\", temperatures_fahrenheit)\n"
   ]
  },
  {
   "cell_type": "markdown",
   "id": "b172e002-ef19-4709-b803-070a8c84ce62",
   "metadata": {},
   "source": [
    "## 8.Write a Python program that uses the `map()` function to round each element of a list of floating-point numbers to the nearest integer.\n"
   ]
  },
  {
   "cell_type": "code",
   "execution_count": 9,
   "id": "aec29850-b620-438a-a567-2066070a4ed7",
   "metadata": {},
   "outputs": [
    {
     "name": "stdout",
     "output_type": "stream",
     "text": [
      "Original Float Numbers: [3.14, 2.718, 5.5, 3.9, 8.75]\n",
      "Rounded Integers: [3, 3, 6, 4, 9]\n"
     ]
    }
   ],
   "source": [
    "float_numbers = [3.14, 2.718, 5.5, 3.9, 8.75]\n",
    "\n",
    "rounded_integers = list(map(round, float_numbers))\n",
    "\n",
    "print(\"Original Float Numbers:\", float_numbers)\n",
    "print(\"Rounded Integers:\", rounded_integers)\n"
   ]
  },
  {
   "cell_type": "markdown",
   "id": "57524876-b91b-485c-a9a5-e9933d51ae63",
   "metadata": {},
   "source": [
    "# REDUCE :"
   ]
  },
  {
   "cell_type": "markdown",
   "id": "4be602e5-9fe5-4fad-b16e-3fdb98b45a01",
   "metadata": {},
   "source": [
    "## 1.What is the `reduce()` function in Python, and what module should you import to use it? Provide an example of its basic usage.\n"
   ]
  },
  {
   "cell_type": "code",
   "execution_count": null,
   "id": "edcffc19-25fe-4fc7-adbb-9caa17786ea7",
   "metadata": {},
   "outputs": [],
   "source": [
    "\"\"\"in Python that operates on a list (or any iterable), applies a function to its elements, and 'reduces' them to a single output.\n",
    "It's part of the functools module, which needs to be imported before you can use reduce() ."
   ]
  },
  {
   "cell_type": "code",
   "execution_count": 4,
   "id": "4cb56d50-c96a-4702-8292-ee19eaab3ca4",
   "metadata": {},
   "outputs": [
    {
     "name": "stdout",
     "output_type": "stream",
     "text": [
      "41\n"
     ]
    }
   ],
   "source": [
    "from functools import reduce\n",
    "\n",
    "numbers = [2, 3, 5, 7, 11, 13]\n",
    "def add(x, y):\n",
    "    return x + y\n",
    "\n",
    "result = reduce(add, numbers)\n",
    "\n",
    "print(result)\n"
   ]
  },
  {
   "cell_type": "markdown",
   "id": "fe5abb84-7fb1-4274-8bae-1ea97a012c7e",
   "metadata": {},
   "source": [
    "## 2.Write a Python program that uses the `reduce()` function to find the product of all elements in a list.\n"
   ]
  },
  {
   "cell_type": "code",
   "execution_count": 13,
   "id": "d51ebf2b-f4b0-4842-ad67-376a3f96503c",
   "metadata": {},
   "outputs": [
    {
     "name": "stdout",
     "output_type": "stream",
     "text": [
      "Original Numbers: [1, 2, 3, 4, 5, 6]\n",
      "Product of all elements: 720\n"
     ]
    }
   ],
   "source": [
    "from functools import reduce\n",
    "\n",
    "numbers = [1,2,3,4,5,6]\n",
    "\n",
    "def multiply(x, y):\n",
    "    return x * y\n",
    "product = reduce(multiply, numbers)\n",
    "\n",
    "print(\"Original Numbers:\", numbers)\n",
    "print(\"Product of all elements:\", product)\n"
   ]
  },
  {
   "cell_type": "markdown",
   "id": "40795c53-a6e3-4bf4-ad29-75e0a2df4041",
   "metadata": {},
   "source": [
    "## 3.Create a Python program that uses `reduce()` to find the maximum element in a list of numbers.\n"
   ]
  },
  {
   "cell_type": "code",
   "execution_count": 15,
   "id": "908e2249-67bc-4a10-9e08-ee66586ac5f3",
   "metadata": {},
   "outputs": [
    {
     "name": "stdout",
     "output_type": "stream",
     "text": [
      "Original Numbers: [10, 50, 40, 12, 90]\n",
      "Maximum Element: 90\n"
     ]
    }
   ],
   "source": [
    "from functools import reduce\n",
    "\n",
    "numbers = [10, 50,40,12,90]\n",
    "\n",
    "def find_max(x, y):\n",
    "    return max(x, y)\n",
    "\n",
    "max_element = reduce(find_max, numbers)\n",
    "\n",
    "print(\"Original Numbers:\", numbers)\n",
    "print(\"Maximum Element:\", max_element)\n"
   ]
  },
  {
   "cell_type": "markdown",
   "id": "38c29a4c-3fb5-4a9e-8e0f-2d808e139304",
   "metadata": {},
   "source": [
    " ## 4.How can you use the `reduce()` function to concatenate a list of strings into a single string?"
   ]
  },
  {
   "cell_type": "code",
   "execution_count": 19,
   "id": "b02c02ce-3dfd-4fde-8717-c8bc58ba2b69",
   "metadata": {},
   "outputs": [
    {
     "name": "stdout",
     "output_type": "stream",
     "text": [
      "Original Strings: ['HII', ', ', 'GOOD MORNIG', '!']\n",
      "Concatenated String: HII, GOOD MORNIG!\n"
     ]
    }
   ],
   "source": [
    "from functools import reduce\n",
    "strings = [\"HII\", \", \", \"GOOD MORNIG\", \"!\"]\n",
    "\n",
    "def concatenate_strings(a, b):\n",
    "    return a + b\n",
    "\n",
    "concatenated_string = reduce(concatenate_strings, strings)\n",
    "\n",
    "print(\"Original Strings:\", strings)\n",
    "print(\"Concatenated String:\", concatenated_string)\n"
   ]
  },
  {
   "cell_type": "markdown",
   "id": "750e4f79-70f4-4975-aca3-27d9ccaa4d52",
   "metadata": {},
   "source": [
    "## 5.Write a Python program that calculates the factorial of a number using the `reduce()` function.\n"
   ]
  },
  {
   "cell_type": "code",
   "execution_count": 20,
   "id": "f403d079-d22a-4db7-818f-6a4ca09662da",
   "metadata": {},
   "outputs": [
    {
     "name": "stdin",
     "output_type": "stream",
     "text": [
      "Enter a number to calculate its factorial:  5\n"
     ]
    },
    {
     "name": "stdout",
     "output_type": "stream",
     "text": [
      "The factorial of 5 is: 120\n"
     ]
    }
   ],
   "source": [
    "from functools import reduce\n",
    "\n",
    "def calculate_factorial(n):\n",
    "    return reduce(lambda x, y: x * y, range(1, n + 1), 1)\n",
    "\n",
    "number = int(input(\"Enter a number to calculate its factorial: \"))\n",
    "factorial_result = calculate_factorial(number)\n",
    "print(f\"The factorial of {number} is: {factorial_result}\")\n"
   ]
  },
  {
   "cell_type": "markdown",
   "id": "76f7107d-e046-4010-9afd-13ad507269a7",
   "metadata": {},
   "source": [
    "## 6.Create a Python program that uses `reduce()` to find the GCD (Greatest Common Divisor) of a list of numbers.\n"
   ]
  },
  {
   "cell_type": "code",
   "execution_count": 22,
   "id": "edcba187-89da-4a58-a7f4-f30c57f9320e",
   "metadata": {},
   "outputs": [
    {
     "name": "stdout",
     "output_type": "stream",
     "text": [
      "Original Numbers: [12, 16, 24, 32]\n",
      "GCD of the numbers: 4\n"
     ]
    }
   ],
   "source": [
    "from functools import reduce\n",
    "from math import gcd\n",
    "\n",
    "numbers = [12,16,24,32]\n",
    "gcd_result = reduce(gcd, numbers)\n",
    "\n",
    "print(\"Original Numbers:\", numbers)\n",
    "print(\"GCD of the numbers:\", gcd_result)\n"
   ]
  },
  {
   "cell_type": "markdown",
   "id": "6e687129-e975-42a1-8d5e-4f8bcdb610c6",
   "metadata": {},
   "source": [
    "## 7.Write a Python program that uses the `reduce()` function to find the sum of the digits of a given number.\n"
   ]
  },
  {
   "cell_type": "code",
   "execution_count": 5,
   "id": "ea408cdd-1199-4b1e-8ee6-a893058025ca",
   "metadata": {},
   "outputs": [
    {
     "name": "stdin",
     "output_type": "stream",
     "text": [
      "Enter a number:  234\n"
     ]
    },
    {
     "name": "stdout",
     "output_type": "stream",
     "text": [
      "The sum of the digits of 234 is: 9\n"
     ]
    }
   ],
   "source": [
    "from functools import reduce\n",
    "\n",
    "def sum_of_digits(number):\n",
    "    \n",
    "    return reduce(lambda a, b: a + b, map(int, str(number)))\n",
    "\n",
    "user_number = int(input(\"Enter a number: \"))\n",
    "\n",
    "result = sum_of_digits(user_number)\n",
    "print(f\"The sum of the digits of {user_number} is: {result}\")\n"
   ]
  },
  {
   "cell_type": "markdown",
   "id": "70e41245-c8fc-4d75-92f5-5aa231ac5e12",
   "metadata": {},
   "source": [
    "# FILTER :"
   ]
  },
  {
   "cell_type": "markdown",
   "id": "c324b38c-8fb7-47c2-978d-3fb77f57eae7",
   "metadata": {},
   "source": [
    "## 1.Explain the purpose of the `filter()` function in Python and provide an example of how it can be used to filter elements from an iterable."
   ]
  },
  {
   "cell_type": "code",
   "execution_count": null,
   "id": "1c599e8b-3dce-48b9-a0a9-57537205bebc",
   "metadata": {},
   "outputs": [],
   "source": [
    "\"\"\" # purpose of filter function :  The filter() function selects elements from an iterable (list, tuple etc.) based on the output of a function. \n",
    "                                    The function is applied to each element of the iterable and if it returns True ,\n",
    "                                    the element is selected by the filter() function.\n"
   ]
  },
  {
   "cell_type": "code",
   "execution_count": 1,
   "id": "08ce5049-dd72-494c-b132-1169d6f342ce",
   "metadata": {},
   "outputs": [
    {
     "data": {
      "text/plain": [
       "[1, 2, 3, 4, 5, 6, 7, 8, 9, 10]"
      ]
     },
     "execution_count": 1,
     "metadata": {},
     "output_type": "execute_result"
    }
   ],
   "source": [
    "# example :\n",
    "# Slicing with lists\n",
    ">>> integers_list = list(range(1, 11))\n",
    ">>> integers_list"
   ]
  },
  {
   "cell_type": "markdown",
   "id": "31b8d770-b89b-4ec7-8965-ab05e6fd19da",
   "metadata": {},
   "source": [
    "## 2.Write a Python program that uses the `filter()` function to select even numbers from a list of integers"
   ]
  },
  {
   "cell_type": "code",
   "execution_count": 9,
   "id": "4f03b789-d0c6-4054-aa88-1e66d1b581f6",
   "metadata": {},
   "outputs": [
    {
     "name": "stdout",
     "output_type": "stream",
     "text": [
      "Original list: [1, 2, 4, 6, 3, 90, 55, 45, 87, 88]\n",
      "Even numbers: [2, 4, 6, 90, 88]\n"
     ]
    }
   ],
   "source": [
    "def is_even(num):\n",
    "    return num % 2 == 0\n",
    "\n",
    "numbers = [1, 2,4,6,3,90,55,45,87,88]\n",
    "\n",
    "even_numbers = filter(is_even, numbers)\n",
    "\n",
    "even_numbers_list = list(even_numbers)\n",
    "\n",
    "print(\"Original list:\", numbers)\n",
    "print(\"Even numbers:\", even_numbers_list)\n"
   ]
  },
  {
   "cell_type": "markdown",
   "id": "4c7f25cf-6712-4620-8866-f5e4d2c9478c",
   "metadata": {},
   "source": [
    "## 3.Create a Python program that uses the `filter()` function to select names that start with a specific letter from a list of strings.\n"
   ]
  },
  {
   "cell_type": "code",
   "execution_count": 3,
   "id": "4df8ec1c-8dab-42cd-a2bf-762215603eec",
   "metadata": {},
   "outputs": [
    {
     "name": "stdout",
     "output_type": "stream",
     "text": [
      "Original list of names: ['Aki', 'bhag', 'chacu', 'dad', 'era']\n",
      "Names starting with 'd': ['dad']\n"
     ]
    }
   ],
   "source": [
    "def starts_with_letter(letter, name):\n",
    "    return name.startswith(letter)\n",
    "\n",
    "names = [\"Aki\" , \"bhag\" , \"chacu\", \"dad\", \"era\"]\n",
    "\n",
    "selected_letter = \"d\"\n",
    "\n",
    "filtered_names = filter(lambda x: starts_with_letter(selected_letter, x), names)\n",
    "\n",
    "filtered_names_list = list(filtered_names)\n",
    "\n",
    "print(\"Original list of names:\", names)\n",
    "print(f\"Names starting with '{selected_letter}':\", filtered_names_list)\n"
   ]
  },
  {
   "cell_type": "markdown",
   "id": "b338e39a-c66d-4d7c-9eed-dda02faae4fb",
   "metadata": {},
   "source": [
    "## 4.Write a Python program that uses the `filter()` function to select prime numbers from a list of integers.\n"
   ]
  },
  {
   "cell_type": "code",
   "execution_count": 7,
   "id": "89ad2f28-edcc-4e1a-a755-b05994680638",
   "metadata": {},
   "outputs": [
    {
     "name": "stdout",
     "output_type": "stream",
     "text": [
      "Original list of numbers: [2, 3, 5, 7, 8, 9, 10, 11, 12, 13, 14, 15, 16, 17, 18, 19, 20]\n",
      "Prime numbers: [2, 3, 5, 7, 11, 13, 17, 19]\n"
     ]
    }
   ],
   "source": [
    "def is_prime(num):\n",
    "    if num < 2:\n",
    "        return False\n",
    "    for i in range(2, int(num**0.5) + 1):\n",
    "        if num % i == 0:\n",
    "            return False\n",
    "    return True\n",
    "numbers = [2, 3, 5, 7 , 8, 9, 10,11,12,13,14,15,16,17,18,19,20]\n",
    "prime_numbers = filter(is_prime, numbers)\n",
    "prime_numbers_list = list(prime_numbers)\n",
    "\n",
    "print(\"Original list of numbers:\", numbers)\n",
    "print(\"Prime numbers:\", prime_numbers_list)\n"
   ]
  },
  {
   "cell_type": "markdown",
   "id": "314ae848-2ec2-4cf2-9372-df0573d638ec",
   "metadata": {},
   "source": [
    "## 5.How can you use the `filter()` function to remove None values from a list in Python?\n"
   ]
  },
  {
   "cell_type": "code",
   "execution_count": 12,
   "id": "f383a34c-cdc1-4c2d-acd0-ed5a320dbfd7",
   "metadata": {},
   "outputs": [
    {
     "name": "stdout",
     "output_type": "stream",
     "text": [
      "Original list with None values: [1, 2, None, 4, 5, None, 7, None, 9]\n",
      "List after removing None values: [1, 2, 4, 5, 7, 9]\n"
     ]
    }
   ],
   "source": [
    "values = [1, 2, None, 4,5,None, 7, None, 9]\n",
    "\n",
    "def filter_none(value):\n",
    "    return value is not None\n",
    "filtered_values = filter(filter_none, values)\n",
    "filtered_values_list = list(filtered_values)\n",
    "\n",
    "print(\"Original list with None values:\", values)\n",
    "print(\"List after removing None values:\", filtered_values_list)\n"
   ]
  },
  {
   "cell_type": "markdown",
   "id": "d7975f9d-7556-4115-8880-0a1bbb20e12b",
   "metadata": {},
   "source": [
    "## 6.Create a Python program that uses `filter()` to select words longer than a certain length from a list of strings."
   ]
  },
  {
   "cell_type": "code",
   "execution_count": 15,
   "id": "4fac3af0-8075-43ab-b77a-87e90a7bfecd",
   "metadata": {},
   "outputs": [
    {
     "name": "stdout",
     "output_type": "stream",
     "text": [
      "Original list of words: ['akanksha', 'gautam', '', 'bhagat', 'dance', 'yoga', 'food']\n",
      "Words longer than 6 characters: ['akanksha']\n"
     ]
    }
   ],
   "source": [
    "words = [\"akanksha\", \"gautam\", \"\", \"bhagat\", \"dance\", \"yoga\", \"food\"]\n",
    "min_length = 6\n",
    "\n",
    "def filter_by_length(word):\n",
    "    return len(word) > min_length\n",
    "\n",
    "selected_words = filter(filter_by_length, words)\n",
    "selected_words_list = list(selected_words)\n",
    "print(\"Original list of words:\", words)\n",
    "print(f\"Words longer than {min_length} characters:\", selected_words_list)\n"
   ]
  },
  {
   "cell_type": "markdown",
   "id": "adfd2656-7220-45a6-980a-ea8af41db50c",
   "metadata": {},
   "source": [
    "## 7.Write a Python program that uses the `filter()` function to select elements greater than a specified threshold from a list of values.\n"
   ]
  },
  {
   "cell_type": "code",
   "execution_count": 18,
   "id": "12defea7-e0da-4748-b559-3f54a684f612",
   "metadata": {},
   "outputs": [
    {
     "name": "stdout",
     "output_type": "stream",
     "text": [
      "Original list of values: [10, 25, 5, 7, 23, 2, 6, 55]\n",
      "Values greater than 15: [25, 23, 55]\n"
     ]
    }
   ],
   "source": [
    "values = [10, 25, 5,7,23,2,6,55]\n",
    "threshold = 15\n",
    "def filter_greater_than_threshold(value):\n",
    "    return value > threshold\n",
    "\n",
    "selected_values = filter(filter_greater_than_threshold, values)\n",
    "selected_values_list = list(selected_values)\n",
    "print(\"Original list of values:\", values)\n",
    "print(f\"Values greater than {threshold}:\", selected_values_list)\n"
   ]
  },
  {
   "cell_type": "markdown",
   "id": "a148d003-14ad-450a-9188-ca88a7cf8201",
   "metadata": {},
   "source": [
    "# RECURSION :"
   ]
  },
  {
   "cell_type": "markdown",
   "id": "02e32715-903e-4825-b84e-962f73e1de94",
   "metadata": {},
   "source": [
    "## 1.Explain the concept of recursion in Python. How does it differ from iteration?\n"
   ]
  },
  {
   "cell_type": "code",
   "execution_count": null,
   "id": "00f92794-9f14-47f6-8400-984142979061",
   "metadata": {},
   "outputs": [],
   "source": [
    "\"\"\"A recursive function typically consists of two parts: a base case and a recursive case.\n",
    "The base case defines the condition under which the function stops calling itself, preventing an infinite loop. \n",
    "The recursive case breaks down the problem into smaller subproblems and calls itself to solve them.\n",
    "\n",
    "## compare recursion with iteration:\n",
    "1.Termination condition:\n",
    "Recursion uses a base case to terminate the function calls.\n",
    "Iteration typically uses a loop condition to determine when to stop.\n",
    "\n",
    "2.Readability:\n",
    "Recursion can make the code more readable for certain problems, expressing the solution in a more natural and concise manner.\n",
    "Iteration might be more explicit and, in some cases, more readable for linear, repetitive tasks.\n",
    "\n",
    "3.Memory usage:\n",
    "Recursion may use more memory due to the function call stack.\n",
    "Iteration may be more memory-efficient as it doesn't rely on the call stack to the same extent.\n",
    "\n",
    "4.Performance:\n",
    "Recursion can be less efficient than iteration due to the overhead of function calls and the use of the call stack.\n",
    "Iteration is often more performant and is preferred for tasks where efficiency is critical.\"\"\"\n"
   ]
  },
  {
   "cell_type": "markdown",
   "id": "f7dcb22a-8155-43b7-9431-44dfe4cfd600",
   "metadata": {},
   "source": [
    "## 2.Write a Python program to calculate the factorial of a number using recursion.\n"
   ]
  },
  {
   "cell_type": "code",
   "execution_count": 2,
   "id": "6bceac9a-5a1a-4deb-8a16-5527a6ba2ec5",
   "metadata": {},
   "outputs": [
    {
     "name": "stdin",
     "output_type": "stream",
     "text": [
      "Enter a non-negative integer to calculate its factorial:  6\n"
     ]
    },
    {
     "name": "stdout",
     "output_type": "stream",
     "text": [
      "The factorial of 6 is: 720\n"
     ]
    }
   ],
   "source": [
    "def factorial(n):\n",
    "    # Base case: factorial of 0 or 1 is 1\n",
    "    if n == 0 or n == 1:\n",
    "        return 1\n",
    "    # Recursive case: n! = n * (n-1)!\n",
    "    else:\n",
    "        return n * factorial(n - 1)\n",
    "\n",
    "# Get user input for the number\n",
    "num = int(input(\"Enter a non-negative integer to calculate its factorial: \"))\n",
    "\n",
    "# Check if the input is non-negative\n",
    "if num < 0:\n",
    "    print(\"Please enter a non-negative integer.\")\n",
    "else:\n",
    "    result = factorial(num)\n",
    "    print(f\"The factorial of {num} is: {result}\")\n"
   ]
  },
  {
   "cell_type": "markdown",
   "id": "db6b838f-9c6e-47bb-adb5-7c2609e5c8ae",
   "metadata": {},
   "source": [
    "## 3.Create a recursive Python function to find the nth Fibonacci number."
   ]
  },
  {
   "cell_type": "code",
   "execution_count": 1,
   "id": "f6c2c110-7e3a-4369-bc91-4528adf25c59",
   "metadata": {},
   "outputs": [
    {
     "name": "stdin",
     "output_type": "stream",
     "text": [
      "Enter a  integer to find the nth Fibonacci number:  8\n"
     ]
    },
    {
     "name": "stdout",
     "output_type": "stream",
     "text": [
      "The 8th Fibonacci number is: 21\n"
     ]
    }
   ],
   "source": [
    "def fibonacci(n):\n",
    "    if n == 0:\n",
    "        return 0\n",
    "    elif n == 1:\n",
    "        return 1\n",
    "    else:\n",
    "        return fibonacci(n - 1) + fibonacci(n - 2)\n",
    "\n",
    "num = int(input(\"Enter a  integer to find the nth Fibonacci number: \"))\n",
    "\n",
    "if num < 0:\n",
    "    print(\"Please enter a non-negative integer.\")\n",
    "else:\n",
    "    result = fibonacci(num)\n",
    "    print(f\"The {num}th Fibonacci number is: {result}\")\n"
   ]
  },
  {
   "cell_type": "markdown",
   "id": "9de85d9c-2643-441d-a25e-c8a9f44da048",
   "metadata": {},
   "source": [
    "## 4.Write a recursive Python function to calculate the sum of all elements in a list.\n"
   ]
  },
  {
   "cell_type": "code",
   "execution_count": 3,
   "id": "3d774c6e-175e-423d-a396-0fd22bc8423d",
   "metadata": {},
   "outputs": [
    {
     "name": "stdout",
     "output_type": "stream",
     "text": [
      "The sum of the elements in the list is: 21\n"
     ]
    }
   ],
   "source": [
    "def recursive_sum(lst):\n",
    "    if not lst:\n",
    "        return 0\n",
    "    else:\n",
    "        return lst[0] + recursive_sum(lst[1:])\n",
    "numbers = [1, 2,6,8,4]\n",
    "result = recursive_sum(numbers)\n",
    "print(f\"The sum of the elements in the list is: {result}\")\n"
   ]
  },
  {
   "cell_type": "markdown",
   "id": "74577291-df9d-4244-8c1e-086c8d8848b1",
   "metadata": {},
   "source": [
    "## 5.How can you prevent a recursive function from running indefinitely, causing a stack overflow error?"
   ]
  },
  {
   "cell_type": "code",
   "execution_count": 1,
   "id": "4ea0fcec-2772-432c-b2bf-fce094352805",
   "metadata": {},
   "outputs": [
    {
     "data": {
      "text/plain": [
       "\" # Base Case: Ensure that your recursive function has a base case that will eventually be satisfied,\\nleading to the termination of the recursion. This is the condition that stops the function from calling itself.\\n    \\n    # Progress Toward Base Case:\\nEnsure that each recursive call moves towards the base case. If the parameters of the recursive call don't change in a way that gets closer to the base case,\\nit may result in infinite recursion.\\n\\n   # Iterative Solution:\\nConvert the recursive function into an iterative one. This often involves using a loop instead of recursion to achieve the same result.\\n\""
      ]
     },
     "execution_count": 1,
     "metadata": {},
     "output_type": "execute_result"
    }
   ],
   "source": [
    "\"\"\" # Base Case: Ensure that your recursive function has a base case that will eventually be satisfied,\n",
    "leading to the termination of the recursion. This is the condition that stops the function from calling itself.\n",
    "    \n",
    "    # Progress Toward Base Case:\n",
    "Ensure that each recursive call moves towards the base case. If the parameters of the recursive call don't change in a way that gets closer to the base case,\n",
    "it may result in infinite recursion.\n",
    "\n",
    "   # Iterative Solution:\n",
    "Convert the recursive function into an iterative one. This often involves using a loop instead of recursion to achieve the same result.\n",
    "\"\"\""
   ]
  },
  {
   "cell_type": "markdown",
   "id": "e9d417b6-3f57-442e-865b-8bb108f5833a",
   "metadata": {},
   "source": [
    "## 6.Create a recursive Python function to find the greatest common divisor (GCD) of two numbers using the Euclidean algorithm.\n"
   ]
  },
  {
   "cell_type": "code",
   "execution_count": 2,
   "id": "bb06bcf6-3924-4e74-9e18-723a1d2a3c0c",
   "metadata": {},
   "outputs": [
    {
     "name": "stdout",
     "output_type": "stream",
     "text": [
      "The GCD of 36 and 18 is: 18\n"
     ]
    }
   ],
   "source": [
    "def gcd(a, b):\n",
    "    if b == 0:\n",
    "        return a\n",
    "    else:\n",
    "        return gcd(b, a % b)\n",
    "num1 = 36\n",
    "num2 = 18\n",
    "result = gcd(num1, num2)\n",
    "print(f\"The GCD of {num1} and {num2} is: {result}\")"
   ]
  },
  {
   "cell_type": "markdown",
   "id": "12e7b815-21fc-489b-aa14-e98ef12aa5f7",
   "metadata": {},
   "source": [
    "## 7.Write a recursive Python function to reverse a string."
   ]
  },
  {
   "cell_type": "code",
   "execution_count": 9,
   "id": "cb7ba315-a4fb-4872-964f-a67c1d77f003",
   "metadata": {},
   "outputs": [
    {
     "name": "stdout",
     "output_type": "stream",
     "text": [
      "Original String: good morning\n",
      "Reversed String: gninrom doog\n"
     ]
    }
   ],
   "source": [
    "def reverse_string(input_str):\n",
    "    if not input_str:\n",
    "        return \"\"\n",
    "    return reverse_string(input_str[1:]) + input_str[0]\n",
    "\n",
    "original_str = \"good morning\"\n",
    "reversed_str = reverse_string(original_str)\n",
    "print(f\"Original String: {original_str}\")\n",
    "print(f\"Reversed String: {reversed_str}\")\n"
   ]
  },
  {
   "cell_type": "markdown",
   "id": "70b6d3c5-2825-400d-942d-e394a76e5c7e",
   "metadata": {},
   "source": [
    "## 8.Create a recursive Python function to calculate the power of a number (x^n).\n"
   ]
  },
  {
   "cell_type": "code",
   "execution_count": 11,
   "id": "364dfdb9-981a-448c-a660-751fcd6bedec",
   "metadata": {},
   "outputs": [
    {
     "name": "stdout",
     "output_type": "stream",
     "text": [
      "2 raised to the power of 5 is: 32\n"
     ]
    }
   ],
   "source": [
    "def power(x, n):\n",
    "    if n == 0:\n",
    "        return 1\n",
    "    else:\n",
    "        return x * power(x, n - 1)\n",
    "\n",
    "base = 2\n",
    "exponent = 5\n",
    "result = power(base, exponent)\n",
    "print(f\"{base} raised to the power of {exponent} is: {result}\")\n"
   ]
  },
  {
   "cell_type": "markdown",
   "id": "f4eda92f-0daf-47b9-a691-7a5cde303b31",
   "metadata": {},
   "source": [
    "## 9.Write a recursive Python function to find all permutations of a given string.\n"
   ]
  },
  {
   "cell_type": "code",
   "execution_count": 19,
   "id": "defb3a91-fdc4-4d73-aa2f-93b4e3c4c7eb",
   "metadata": {},
   "outputs": [
    {
     "name": "stdout",
     "output_type": "stream",
     "text": [
      "All permutations of xyz: ['xyz', 'xzy', 'yxz', 'yzx', 'zxy', 'zyx']\n"
     ]
    }
   ],
   "source": [
    "def get_permutations(input_str):\n",
    "    if len(input_str) == 1:\n",
    "        return [input_str]\n",
    "\n",
    "    result = []\n",
    "    for i in range(len(input_str)):\n",
    "        \n",
    "        fixed_char = input_str[i]\n",
    "        remaining_chars = input_str[:i] + input_str[i + 1:]\n",
    "        permutations_of_remaining = get_permutations(remaining_chars)\n",
    "\n",
    "        for perm in permutations_of_remaining:\n",
    "            result.append(fixed_char + perm)\n",
    "    return result\n",
    "\n",
    "input_string = \"xyz\"\n",
    "permutations = get_permutations(input_string)\n",
    "print(f\"All permutations of {input_string}: {permutations}\")\n"
   ]
  },
  {
   "cell_type": "markdown",
   "id": "5354a932-c8c0-4e3f-b587-e94e7c940378",
   "metadata": {},
   "source": [
    "## 10.Write a recursive Python function to check if a string is a palindrome.\n"
   ]
  },
  {
   "cell_type": "code",
   "execution_count": 24,
   "id": "97462943-d06a-454b-8919-52e85f796915",
   "metadata": {},
   "outputs": [
    {
     "name": "stdin",
     "output_type": "stream",
     "text": [
      "Enter your string:  kwk\n"
     ]
    },
    {
     "name": "stdout",
     "output_type": "stream",
     "text": [
      "kwk is palindrome\n"
     ]
    }
   ],
   "source": [
    "def is_palindrome(l,r,S):\n",
    "    if l>=r:\n",
    "        return True\n",
    "    if S[l] != S[r]:\n",
    "        return False\n",
    "    return is_palindrome(l+1,r-1,S)\n",
    "\n",
    "my_string = input('Enter your string: ')\n",
    "l = 0\n",
    "r = len(my_string)-1\n",
    "\n",
    "check = is_palindrome(l,r,my_string)\n",
    "\n",
    "if check:\n",
    "    print(f\"{my_string} is palindrome\")\n",
    "else:\n",
    "    print(f\"{my_string} is not palindrome\")"
   ]
  },
  {
   "cell_type": "markdown",
   "id": "74347f97-57db-4813-8c64-cf71dc8e940e",
   "metadata": {},
   "source": [
    "## 11.Create a recursive Python function to generate all possible combinations of a list of elements."
   ]
  },
  {
   "cell_type": "code",
   "execution_count": 27,
   "id": "658b2382-28c0-4c61-95f0-28c7e45c9283",
   "metadata": {},
   "outputs": [
    {
     "name": "stdout",
     "output_type": "stream",
     "text": [
      "All combinations of size 3: [[1, 2, 3], [1, 2, 4], [1, 3, 4], [2, 3, 4]]\n"
     ]
    }
   ],
   "source": [
    "def get_combinations(elements, k, start=0, current=[]):\n",
    "    if len(current) == k:\n",
    "        return [current[:]]\n",
    "    result = []\n",
    "    for i in range(start, len(elements)):\n",
    "        current.append(elements[i])\n",
    "        result.extend(get_combinations(elements, k, i + 1, current))\n",
    "        current.pop()\n",
    "    return result\n",
    "\n",
    "elements_list = [1, 2, 3, 4]\n",
    "combination_size = 3\n",
    "combinations = get_combinations(elements_list, combination_size)\n",
    "print(f\"All combinations of size {combination_size}: {combinations}\")\n"
   ]
  },
  {
   "cell_type": "markdown",
   "id": "7fb2621f-5407-4f54-ac8e-7f3637ad883a",
   "metadata": {},
   "source": [
    "# Basics of Functions:"
   ]
  },
  {
   "cell_type": "markdown",
   "id": "ecccf227-51bb-4e9a-874b-30c69f1599be",
   "metadata": {},
   "source": [
    "## 1.What is a function in Python, and why is it used?"
   ]
  },
  {
   "cell_type": "code",
   "execution_count": null,
   "id": "a1a09491-0b3c-48a1-b2b6-9b39f3c54ce4",
   "metadata": {},
   "outputs": [],
   "source": [
    " \"\"\"function is a block of code which only runs when it is called. \n",
    "A function can return data as a result.\"\"\" \n",
    "    \n",
    " \n",
    "\"\"\"used: You use functions in programming to bundle a set of instructions that you want to use repeatedly or that,\n",
    " because of their complexity, are better self-contained in a sub-program and called when needed. \n",
    " That means that a function is a piece of code written to carry out a specified task.\"\"\"\n",
    "\n"
   ]
  },
  {
   "cell_type": "code",
   "execution_count": null,
   "id": "fa390559-2ac9-4edf-9113-06769cd17d85",
   "metadata": {},
   "outputs": [],
   "source": []
  },
  {
   "cell_type": "markdown",
   "id": "31d761d5-aec1-4820-b6fb-3a9b4a9f9600",
   "metadata": {},
   "source": [
    "## 2.How do you define a function in Python? Provide an example.\n"
   ]
  },
  {
   "cell_type": "code",
   "execution_count": null,
   "id": "8deb2546-db98-401a-bed9-4459e0258d23",
   "metadata": {},
   "outputs": [],
   "source": [
    "\"\"\"In Python, define a function with the def keyword, then write the function identifier (name) followed by parentheses and a colon.\n",
    "\n",
    "The next thing  have to do is make sure ,indent with a tab or 4 spaces, and then specify what you want the function to do for you.\"\"\"\n",
    "\n",
    "def functionName():\n",
    "    # What to make the function do"
   ]
  },
  {
   "cell_type": "code",
   "execution_count": null,
   "id": "d3e51a24-60dd-461c-b92d-31b785d19c87",
   "metadata": {},
   "outputs": [],
   "source": []
  },
  {
   "cell_type": "markdown",
   "id": "a0bdeaf1-405e-45b3-9fca-eb88a13ff68c",
   "metadata": {},
   "source": [
    "## 3.Explain the difference between a function definition and a function call."
   ]
  },
  {
   "cell_type": "code",
   "execution_count": null,
   "id": "0a60ed5e-3a98-4f9f-a9e9-7d3165c6f8d4",
   "metadata": {},
   "outputs": [],
   "source": [
    "\"\"\"# A function definition: can be provided anywhere in your code - in some ways the function definition lives independently of the code around it.\n",
    "It actually doesn't matter where you put a function definition.\n",
    "   # Function Calling :\n",
    "Once a function is created in Python, we can call it by writing function_name() itself or another function/ nested funnction.\n",
    "Following is the syntax for calling a function. Syntax: def function_name():"
   ]
  },
  {
   "cell_type": "markdown",
   "id": "56834b5e-4901-443e-a7a4-6cbbaaff26e8",
   "metadata": {},
   "source": [
    "## 4.Write a Python program that defines a function to calculate the sum of two numbers and then calls the function."
   ]
  },
  {
   "cell_type": "code",
   "execution_count": 28,
   "id": "18161f6c-3e93-42da-8bf5-6a4bfc8fb9d2",
   "metadata": {},
   "outputs": [
    {
     "name": "stdout",
     "output_type": "stream",
     "text": [
      "The sum of 5 and 3 is: 8\n"
     ]
    }
   ],
   "source": [
    "def calculate_sum(a, b):\n",
    "    result = a + b\n",
    "    return result\n",
    "num1 = 5\n",
    "num2 = 3\n",
    "sum_result = calculate_sum(num1, num2)\n",
    "\n",
    "print(f\"The sum of {num1} and {num2} is: {sum_result}\")\n"
   ]
  },
  {
   "cell_type": "markdown",
   "id": "330c341f-600e-4302-a0b2-d5e0ab808ff1",
   "metadata": {},
   "source": [
    "## 5.What is a function signature, and what information does it typically include?"
   ]
  },
  {
   "cell_type": "code",
   "execution_count": null,
   "id": "aacc182c-ef2a-41bc-8fb0-57eb98df120b",
   "metadata": {},
   "outputs": [],
   "source": [
    "\"\"\"A function signature consists of the function prototype. It specifies the general information about a function like the name, scope and parameters.\"\"\"\n"
   ]
  },
  {
   "cell_type": "code",
   "execution_count": null,
   "id": "dd6a5ecf-2c3b-4d55-a142-ed9c6af7c5a3",
   "metadata": {},
   "outputs": [],
   "source": []
  },
  {
   "cell_type": "markdown",
   "id": "e8cdd7c6-3d49-4be6-9b10-9ebf5c4a22a8",
   "metadata": {},
   "source": [
    "## 6.Create a Python function that takes two arguments and returns their product.\n"
   ]
  },
  {
   "cell_type": "code",
   "execution_count": 30,
   "id": "c749a1fe-1479-4da1-94e8-ed39ce575841",
   "metadata": {},
   "outputs": [
    {
     "name": "stdout",
     "output_type": "stream",
     "text": [
      "The product of 5 and 6 is: 30\n"
     ]
    }
   ],
   "source": [
    "def calculate_product(a, b):\n",
    "    result = a * b\n",
    "    return result\n",
    "\n",
    "# Example usage:\n",
    "num1 = 5\n",
    "num2 = 6\n",
    "product_result = calculate_product(num1, num2)\n",
    "\n",
    "print(f\"The product of {num1} and {num2} is: {product_result}\")\n"
   ]
  },
  {
   "cell_type": "markdown",
   "id": "94af9d93-48e6-4660-917a-4e9b6d5cc11e",
   "metadata": {},
   "source": [
    "# Function Parameters and Arguments:\n"
   ]
  },
  {
   "cell_type": "markdown",
   "id": "e0a135ad-73ee-40e0-a1ed-f06f2dfeced8",
   "metadata": {},
   "source": [
    "## 1.Explain the concepts of formal parameters and actual arguments in Python functions."
   ]
  },
  {
   "cell_type": "code",
   "execution_count": 32,
   "id": "fbecf5ac-374f-4711-84b4-cb966006ce91",
   "metadata": {},
   "outputs": [
    {
     "data": {
      "text/plain": [
       "' #Formal Parameters:\\nDefinition: Formal parameters are the variables listed in the function definition. \\nThey act as placeholders for the values that will be passed to the function when it is called.\\nRole: Formal parameters specify what kind of information a function expects to receive and use during its execution.\\nSyntax: Formal parameters are specified in the function definition inside the parentheses, following the function name.\\n \\n #Actual Arguments (or Arguments):\\n\\nDefinition: Actual arguments, often simply called arguments, are the values provided to the function when it is called. \\nThese values are assigned to the corresponding formal parameters.\\nRole: Actual arguments supply concrete values to be used by the function during a specific invocation.\\nSyntax: Actual arguments are the values passed inside the parentheses when calling the function.'"
      ]
     },
     "execution_count": 32,
     "metadata": {},
     "output_type": "execute_result"
    }
   ],
   "source": [
    "\"\"\" #Formal Parameters:\n",
    "Definition: Formal parameters are the variables listed in the function definition. \n",
    "They act as placeholders for the values that will be passed to the function when it is called.\n",
    "Role: Formal parameters specify what kind of information a function expects to receive and use during its execution.\n",
    "Syntax: Formal parameters are specified in the function definition inside the parentheses, following the function name.\n",
    " \n",
    " #Actual Arguments (or Arguments):\n",
    "\n",
    "Definition: Actual arguments, often simply called arguments, are the values provided to the function when it is called. \n",
    "These values are assigned to the corresponding formal parameters.\n",
    "Role: Actual arguments supply concrete values to be used by the function during a specific invocation.\n",
    "Syntax: Actual arguments are the values passed inside the parentheses when calling the function.\"\"\""
   ]
  },
  {
   "cell_type": "markdown",
   "id": "e1a619f5-ede9-4c34-a093-0a6e3994f72c",
   "metadata": {},
   "source": [
    "## 2.Write a Python program that defines a function with default argument values.\n"
   ]
  },
  {
   "cell_type": "code",
   "execution_count": 35,
   "id": "8f1590b8-2489-46da-8103-72cee25b722f",
   "metadata": {},
   "outputs": [
    {
     "name": "stdout",
     "output_type": "stream",
     "text": [
      "Hi, Akanksha!\n",
      "Hello, Baby!\n",
      "Good morning, Chakuli!\n"
     ]
    }
   ],
   "source": [
    "def greet(name, greeting=\"Hello\"):\n",
    "    \"\"\"\n",
    "    Greets a person with a default or specified greeting.\n",
    "    \n",
    "    Parameters:\n",
    "    - name: The name of the person to greet.\n",
    "    - greeting: The greeting message (default is \"Hello\").\n",
    "    \"\"\"\n",
    "    print(f\"{greeting}, {name}!\")\n",
    "\n",
    "greet(\"Akanksha\", \"Hi\")\n",
    "greet(\"Baby\")\n",
    "greet(\"Chakuli\", \"Good morning\")\n"
   ]
  },
  {
   "cell_type": "markdown",
   "id": "d9b8ec27-7cf8-4af0-82dc-e78464be4f66",
   "metadata": {},
   "source": [
    "## 3.How do you use keyword arguments in Python function calls? Provide an example"
   ]
  },
  {
   "cell_type": "code",
   "execution_count": null,
   "id": "2f2b743d-e675-4d22-8b32-545e8485bd69",
   "metadata": {},
   "outputs": [],
   "source": [
    "\"\"\"Keyword arguments (or named arguments) are values that, when passed into a function,\n",
    "are identifiable by specific parameter names. A keyword argument is preceded by a parameter and the assignment operator, = .\n",
    "\n",
    "\"\"\"\n",
    "\n"
   ]
  },
  {
   "cell_type": "code",
   "execution_count": 2,
   "id": "222f9de1-a87b-4180-b2c0-9c22d982f9e5",
   "metadata": {},
   "outputs": [
    {
     "name": "stdout",
     "output_type": "stream",
     "text": [
      "akanksha is working on an ev project\n"
     ]
    }
   ],
   "source": [
    "# eg.\n",
    "def team(name, project):\n",
    "    print(name, \"is working on an\", project)\n",
    "\n",
    "team(project = \"ev project\", name = 'akanksha')\n"
   ]
  },
  {
   "cell_type": "markdown",
   "id": "605c31f1-b6d0-451b-bc3f-c99a4ae23e2f",
   "metadata": {},
   "source": [
    "## 4.Create a Python function that accepts a variable number of arguments and calculates their sum.\n"
   ]
  },
  {
   "cell_type": "code",
   "execution_count": 6,
   "id": "0e1de5ce-f1aa-4d0e-931f-e51030bd9050",
   "metadata": {},
   "outputs": [
    {
     "name": "stdin",
     "output_type": "stream",
     "text": [
      "Input the first number :  3\n",
      "Input the second number  : 6\n"
     ]
    },
    {
     "name": "stdout",
     "output_type": "stream",
     "text": [
      "The sum of given two numbers is 9.0\n"
     ]
    }
   ],
   "source": [
    "def add_two_num(a,b):\n",
    "    sum=float(a)+float(b);\n",
    "    return sum; \n",
    "    \n",
    "num1=input(\"Input the first number : \")\n",
    "num2=input(\"Input the second number  :\")\n",
    "\n",
    "print(\"The sum of given two numbers is\",add_two_num(num1,num2))"
   ]
  },
  {
   "cell_type": "markdown",
   "id": "8cb39779-0211-4475-a8b8-7b1d67bba256",
   "metadata": {},
   "source": [
    "## 5.What is the purpose of the `*args` and `**kwargs` syntax in function parameter lists?\n"
   ]
  },
  {
   "cell_type": "code",
   "execution_count": 7,
   "id": "9496c863-0a80-4d48-a5d9-8e599e243c93",
   "metadata": {},
   "outputs": [
    {
     "data": {
      "text/plain": [
       "' # *args : *args is used for multiple num or any num ,i can pass anything that i want.  there is no restriction\\n\\n   # **kwargs : its called as key word argument, i can pass anything that i want.  there is no restriction,\\n                 when i used this must pass data in dectionary format means key & value pair.'"
      ]
     },
     "execution_count": 7,
     "metadata": {},
     "output_type": "execute_result"
    }
   ],
   "source": [
    "\"\"\" # *args : *args is used for multiple num or any num ,i can pass anything that i want.  there is no restriction\n",
    "\n",
    "   # **kwargs : its called as key word argument, i can pass anything that i want.  there is no restriction,\n",
    "                 when i used this must pass data in dectionary format means key & value pair.\"\"\""
   ]
  },
  {
   "cell_type": "markdown",
   "id": "1896067b-3747-489e-b3f1-b354c7d0b57c",
   "metadata": {},
   "source": [
    "# Return Values and Scoping:\n"
   ]
  },
  {
   "cell_type": "markdown",
   "id": "a0b4d4a8-6e5b-436f-bfca-23c629839dba",
   "metadata": {},
   "source": [
    "## 1.Describe the role of the `return` statement in Python functions and provide examples.\n"
   ]
  },
  {
   "cell_type": "code",
   "execution_count": 8,
   "id": "b66f06eb-bd53-4d68-97d8-bb81ef920045",
   "metadata": {},
   "outputs": [
    {
     "data": {
      "text/plain": [
       "\" # role of 'return'  statement in python:when we used return it always gives u a same data type as it is ,\\n    means if we write int its give int as it is ..so return used anywhere in program.\\n   # it also return multiple data type. as return.\\n   #  whatever i write inside data type ,its return as it is\""
      ]
     },
     "execution_count": 8,
     "metadata": {},
     "output_type": "execute_result"
    }
   ],
   "source": [
    "\"\"\" # role of 'return'  statement in python:when we used return it always gives u a same data type as it is ,\n",
    "    means if we write int its give int as it is ..so return used anywhere in program.\n",
    "   # it also return multiple data type. as return.\n",
    "   #  whatever i write inside data type ,its return as it is\"\"\"\n",
    "   "
   ]
  },
  {
   "cell_type": "code",
   "execution_count": 10,
   "id": "4ab5161e-17ee-48f5-b00d-edc8d42fcd87",
   "metadata": {},
   "outputs": [],
   "source": [
    " # example : \n",
    "def  test6(x,y,z):\n",
    "    return x,y,z"
   ]
  },
  {
   "cell_type": "code",
   "execution_count": 11,
   "id": "1cc988e2-68a4-481e-944f-9439858a6761",
   "metadata": {},
   "outputs": [
    {
     "data": {
      "text/plain": [
       "(2, 3, 4)"
      ]
     },
     "execution_count": 11,
     "metadata": {},
     "output_type": "execute_result"
    }
   ],
   "source": [
    "test6(2,3,4)"
   ]
  },
  {
   "cell_type": "markdown",
   "id": "96e69054-c848-4d3b-a2eb-72051127ab29",
   "metadata": {},
   "source": [
    "## 2.Explain the concept of variable scope in Python, including local and global variables.\n"
   ]
  },
  {
   "cell_type": "code",
   "execution_count": null,
   "id": "abd64325-74dd-4c2b-ae71-b04750cf1812",
   "metadata": {},
   "outputs": [],
   "source": [
    "\"\"\" The scope of a variable is determined by where it is defined, and it can be categorized into two main types: local scope and global scope.\n",
    "\n",
    "## local scope: if u crecte any variable inside function,,so if u try to acces same variable outside function it not access is called as local variable\n",
    "or local function or local scope\n",
    "# its access in the function\n",
    "\n",
    "## global scope :  if any variable outside a function is a globle variable u can assec it anywhere in program   \"\"\"\n",
    "\n"
   ]
  },
  {
   "cell_type": "markdown",
   "id": "085b6f4e-54ad-4864-ab57-64527e6dc4eb",
   "metadata": {},
   "source": [
    "## 3.Write a Python program that demonstrates the use of global variables within functions.\n"
   ]
  },
  {
   "cell_type": "code",
   "execution_count": 12,
   "id": "0e610d31-33a0-4657-bff6-257099eed4cf",
   "metadata": {},
   "outputs": [],
   "source": [
    "x = 20\n",
    "def add():\n",
    "    y = 30\n",
    "    print(\"local variable  y =\",y)\n",
    "    \n",
    "    print(\"global variable x=\",x)\n",
    "    \n",
    "    z=x+y\n",
    "    print(z)\n",
    "     "
   ]
  },
  {
   "cell_type": "code",
   "execution_count": 13,
   "id": "7d928e32-38b6-4315-8081-bbd45c45d581",
   "metadata": {},
   "outputs": [
    {
     "name": "stdout",
     "output_type": "stream",
     "text": [
      "local variable  y = 30\n",
      "global variable x= 20\n",
      "50\n"
     ]
    }
   ],
   "source": [
    "add()"
   ]
  },
  {
   "cell_type": "code",
   "execution_count": null,
   "id": "c4d4457c-9122-4096-9b8e-6bd77e0df672",
   "metadata": {},
   "outputs": [],
   "source": []
  },
  {
   "cell_type": "markdown",
   "id": "57def6d7-5eb3-4bed-bcc2-ece568228139",
   "metadata": {},
   "source": [
    "## 4.Create a Python function that calculates the factorial of a number and returns it.\n"
   ]
  },
  {
   "cell_type": "code",
   "execution_count": 17,
   "id": "eb760271-a991-41fb-8fd9-e943274e7004",
   "metadata": {},
   "outputs": [
    {
     "name": "stdout",
     "output_type": "stream",
     "text": [
      "The factorial of 0 is: 1\n"
     ]
    }
   ],
   "source": [
    "def factorial(n):\n",
    "    if n < 0:\n",
    "        raise ValueError(\"Input must be a non-negative integer\")\n",
    "    elif n == 0 or n == 1:\n",
    "        return 1\n",
    "    else:\n",
    "        return n * factorial(n - 1)\n",
    "\n",
    "# Example usage:\n",
    "number = 0\n",
    "result = factorial(number)\n",
    "print(f\"The factorial of {number} is: {result}\")\n"
   ]
  },
  {
   "cell_type": "markdown",
   "id": "ab2ee5a2-317a-4907-a323-b4b699a5172b",
   "metadata": {},
   "source": [
    "## 5.How can you access variables defined outside a function from within the function?\n"
   ]
  },
  {
   "cell_type": "code",
   "execution_count": 18,
   "id": "0203d61d-9e22-4121-b5eb-302ae7ff30ca",
   "metadata": {},
   "outputs": [
    {
     "name": "stdout",
     "output_type": "stream",
     "text": [
      "Inside the function: Global Variable = 10\n"
     ]
    }
   ],
   "source": [
    "# Define a global variable\n",
    "global_variable = 10\n",
    "\n",
    "# Function that accesses a global variable\n",
    "def access_global_variable():\n",
    "    # Access the global variable within the function\n",
    "    print(\"Inside the function: Global Variable =\", global_variable)\n",
    "\n",
    "# Call the function\n",
    "access_global_variable()\n",
    "\n"
   ]
  },
  {
   "cell_type": "markdown",
   "id": "d4cd924e-87c7-4325-98e5-68aa526c1e7b",
   "metadata": {},
   "source": [
    "# Lambda Functions and Higher-Order Functions:\n"
   ]
  },
  {
   "cell_type": "markdown",
   "id": "9222fc79-005f-451b-8951-6e6b0b811451",
   "metadata": {},
   "source": [
    "## 1.What are lambda functions in Python, and when are they typically used?\n"
   ]
  },
  {
   "cell_type": "code",
   "execution_count": 19,
   "id": "409f0411-4e89-4a20-a154-269c63cbe374",
   "metadata": {},
   "outputs": [
    {
     "data": {
      "text/plain": [
       "' LAMDA FUNCTION: CREATE FUNCTION WITHOUT NAME OR ANANORMUS FUNCTION ,lambda use with other function, lambda is single line function\\nused :Lambda functions are commonly used with functions like map(), filter(), and reduce().    '"
      ]
     },
     "execution_count": 19,
     "metadata": {},
     "output_type": "execute_result"
    }
   ],
   "source": [
    "\"\"\" LAMDA FUNCTION: CREATE FUNCTION WITHOUT NAME OR ANANORMUS FUNCTION ,lambda use with other function, lambda is single line function\n",
    "used :Lambda functions are commonly used with functions like map(), filter(), and reduce().    \"\"\""
   ]
  },
  {
   "cell_type": "markdown",
   "id": "b95ead25-947a-42cc-89d6-1080d3acd8d9",
   "metadata": {},
   "source": [
    "## 2.Write a Python program that uses lambda functions to sort a list of tuples based on the second element.\n"
   ]
  },
  {
   "cell_type": "code",
   "execution_count": 21,
   "id": "2aef5510-b314-42b4-8d10-46df8a1ddbdc",
   "metadata": {},
   "outputs": [
    {
     "name": "stdout",
     "output_type": "stream",
     "text": [
      "Original List of Tuples: [(1, 5), (3, 2), (2, 8), (4, 1)]\n",
      "Sorted List of Tuples based on the Second Element: [(4, 1), (3, 2), (1, 5), (2, 8)]\n"
     ]
    }
   ],
   "source": [
    "list_of_tuples = [(1, 5), (3, 2), (2, 8), (4, 1)]\n",
    "sorted_list = sorted(list_of_tuples, key=lambda x: x[1])\n",
    "\n",
    "print(\"Original List of Tuples:\", list_of_tuples)\n",
    "print(\"Sorted List of Tuples based on the Second Element:\", sorted_list)\n",
    "\n"
   ]
  },
  {
   "cell_type": "code",
   "execution_count": null,
   "id": "42044a43-d0ed-4b17-b9ee-822cab06a65b",
   "metadata": {},
   "outputs": [],
   "source": []
  },
  {
   "cell_type": "markdown",
   "id": "a7da6a79-37a2-42fa-b37f-4418808c6ec6",
   "metadata": {},
   "source": [
    "## 3.Explain the concept of higher-order functions in Python, and provide an example.\n"
   ]
  },
  {
   "cell_type": "code",
   "execution_count": 24,
   "id": "0b7c7a61-0c06-4a54-bafe-1734e771acc1",
   "metadata": {},
   "outputs": [
    {
     "name": "stdout",
     "output_type": "stream",
     "text": [
      "Result of addition: 9\n",
      "Result of multiplication: 15\n"
     ]
    }
   ],
   "source": [
    "def apply_operation(x, y, operation):\n",
    "    return operation(x, y)\n",
    "def add(x, y):\n",
    "    return x + y\n",
    "\n",
    "def multiply(x, y):\n",
    "    return x * y\n",
    "\n",
    "# Use apply_operation with different operations\n",
    "result_addition = apply_operation(6, 3, add)\n",
    "result_multiplication = apply_operation(5, 3, multiply)\n",
    "\n",
    "print(\"Result of addition:\", result_addition)           # Output: 8\n",
    "print(\"Result of multiplication:\", result_multiplication)  # Output: 15\n"
   ]
  },
  {
   "cell_type": "markdown",
   "id": "7337ec73-5468-4604-8324-7b1179dc9997",
   "metadata": {},
   "source": [
    "## 4.Create a Python function that takes a list of numbers and a function as arguments, applying the function to each element in the list.\n"
   ]
  },
  {
   "cell_type": "code",
   "execution_count": 28,
   "id": "6ea8bfa6-25fb-4639-818e-2e805a1960a3",
   "metadata": {},
   "outputs": [
    {
     "name": "stdout",
     "output_type": "stream",
     "text": [
      "Original List: [1, 2, 3, 4, 6, 7]\n",
      "Result after applying the square function: [1, 4, 9, 16, 36, 49]\n"
     ]
    }
   ],
   "source": [
    "def apply_function_to_list(numbers, custom_function):\n",
    "    return [custom_function(num) for num in numbers]\n",
    "numbers_list = [1, 2, 3, 4,6,7]\n",
    "\n",
    "def square(x):\n",
    "    return x**2\n",
    "result_square = apply_function_to_list(numbers_list, square)\n",
    "\n",
    "print(\"Original List:\", numbers_list)\n",
    "print(\"Result after applying the square function:\", result_square)\n"
   ]
  },
  {
   "cell_type": "markdown",
   "id": "f20dd7eb-be9f-4b07-8c4c-d52f4088f430",
   "metadata": {},
   "source": [
    "# Built-in Functions:\n"
   ]
  },
  {
   "cell_type": "markdown",
   "id": "2898b71b-82f1-4b53-a539-b0043a5b0ca3",
   "metadata": {},
   "source": [
    "## 1.Describe the role of built-in functions like `len()`, `max()`, and `min()` in Python.\n"
   ]
  },
  {
   "cell_type": "code",
   "execution_count": 29,
   "id": "9dc24d35-a47a-4c36-8ba9-82d9088b6004",
   "metadata": {},
   "outputs": [
    {
     "data": {
      "text/plain": [
       "'# len() Function:\\n\\n# Role: Calculates the length or the number of elements in a sequence (e.g., string, list, tuple, dictionary, etc.).\\n\\n# max() Role: Finds the maximum element in an iterable (e.g., list, tuple, or set) or among arguments.\\nmin() Role: Finds the minimum element in an iterable or among arguments\\n '"
      ]
     },
     "execution_count": 29,
     "metadata": {},
     "output_type": "execute_result"
    }
   ],
   "source": [
    "\"\"\"# len() Function:\n",
    "\n",
    "# Role: Calculates the length or the number of elements in a sequence (e.g., string, list, tuple, dictionary, etc.).\n",
    "\n",
    "# max() Role: Finds the maximum element in an iterable (e.g., list, tuple, or set) or among arguments.\n",
    "min() Role: Finds the minimum element in an iterable or among arguments\n",
    " \"\"\""
   ]
  },
  {
   "cell_type": "markdown",
   "id": "ef19c82f-0311-45f4-b993-1006f288eb81",
   "metadata": {},
   "source": [
    "## 2.Write a Python program that uses the `map()` function to apply a function to each element of a list."
   ]
  },
  {
   "cell_type": "code",
   "execution_count": 33,
   "id": "733bdf76-5db8-43d6-996d-f1bc28528c5f",
   "metadata": {},
   "outputs": [
    {
     "name": "stdout",
     "output_type": "stream",
     "text": [
      "Original List: [1, 2, 3, 4, 5]\n",
      "Squared Numbers: [1, 8, 27, 64, 125]\n"
     ]
    }
   ],
   "source": [
    "def cube(x):\n",
    "    return x ** 3\n",
    "numbers = [1, 2, 3, 4, 5]\n",
    "\n",
    "squared_numbers = list(map(square, numbers))\n",
    "\n",
    "print(\"Original List:\", numbers)\n",
    "print(\"Squared Numbers:\", squared_numbers)\n"
   ]
  },
  {
   "cell_type": "markdown",
   "id": "7126da31-8654-4666-a1f8-213c36643c77",
   "metadata": {},
   "source": [
    "## 3.How does the `filter()` function work in Python, and when would you use it?\n"
   ]
  },
  {
   "cell_type": "code",
   "execution_count": null,
   "id": "b95d3362-6b6c-4b43-9791-8421bc5f227f",
   "metadata": {},
   "outputs": [],
   "source": [
    "\"\"\"Filter() is a built-in function in Python. The filter function can be applied to an iterable such as a list or a dictionary and create a new iterator.\n",
    "This new iterator can filter out certain specific elements based on the condition that you provide very efficiently. \n",
    "\n",
    "\n",
    "# use:\n",
    "The filter() method filters the given sequence with the help of a function that tests each element in the sequence to be true or not.\n",
    "\"\"\""
   ]
  },
  {
   "cell_type": "markdown",
   "id": "9c2fb130-284f-47c3-bc0e-334a60a95fac",
   "metadata": {},
   "source": [
    "## 4.Create a Python program that uses the `reduce()` function to find the product of all elements in a list."
   ]
  },
  {
   "cell_type": "code",
   "execution_count": 35,
   "id": "1c05d2a9-8ff7-4042-8035-d5aa9002b020",
   "metadata": {},
   "outputs": [
    {
     "name": "stdout",
     "output_type": "stream",
     "text": [
      "The product of the list [2, 3, 4, 6] is: 144\n"
     ]
    }
   ],
   "source": [
    "from functools import reduce\n",
    "\n",
    "def multiply(x, y):\n",
    "    return x * y\n",
    "\n",
    "def product_of_list(numbers):\n",
    "    result = reduce(multiply, numbers)\n",
    "    return result\n",
    "numbers_list = [2, 3, 4, 6]\n",
    "\n",
    "result_product = product_of_list(numbers_list)\n",
    "\n",
    "print(f\"The product of the list {numbers_list} is: {result_product}\")\n"
   ]
  },
  {
   "cell_type": "markdown",
   "id": "845af0fa-6bf6-4014-a58d-da40252f8ea0",
   "metadata": {},
   "source": [
    "# Function Documentation and Best Practices:\n"
   ]
  },
  {
   "cell_type": "markdown",
   "id": "7bea1936-e414-47a5-82f8-6b5521e661bd",
   "metadata": {},
   "source": [
    "## 1.Explain the purpose of docstrings in Python functions and how to write them.\n"
   ]
  },
  {
   "cell_type": "code",
   "execution_count": null,
   "id": "40f739e0-e206-4046-aae1-04c6922dd408",
   "metadata": {},
   "outputs": [],
   "source": [
    "\"\"\"purpose of docstrings in Python:\n",
    "\n",
    "Python documentation strings (or docstrings) provide a convenient way of associating documentation with Python modules, functions, classes, and methods.\n",
    "It's specified in source code that is used, like a comment, to document a specific segment of code.\n",
    "\n",
    "Start with a concise one-line summary:\n",
    "\n",
    "1.Separate sections with a blank line.\n",
    "2.Use the \"Parameters\" section to describe each parameter, including its type.\n",
    "3.Use the \"Returns\" section to describe the return value and its type.\n",
    "4.Provide examples or additional information if necessary.\"\"\"\n"
   ]
  },
  {
   "cell_type": "markdown",
   "id": "c7ca8671-d6c0-4d4f-8f99-e4bd5dd59c79",
   "metadata": {},
   "source": [
    "## 2.Describe some best practices for naming functions and variables in Python, including naming conventions and guidelines.\n"
   ]
  },
  {
   "cell_type": "code",
   "execution_count": null,
   "id": "39ef7a4c-f91c-4d4c-b6ea-cdf4fde3047a",
   "metadata": {},
   "outputs": [],
   "source": [
    "\"\"\"# naming variable:\n",
    "A variable name must start with a letter or the underscore character.\n",
    "A variable name cannot start with a number.\n",
    "A variable name can only contain alpha-numeric characters and underscores (A-z, 0-9, and _ )\n",
    "Variable names are case-sensitive (age, Age and AGE are three different variables)\n",
    "\n",
    "  # naming function:\n",
    "  They must start with a letter or an underscore: _.\n",
    "\n",
    "They should be lowercase.\n",
    "\n",
    "They can have numbers.\n",
    "\n",
    "They can be any length (within reason), but keep them short.\n",
    "\n",
    "They can't be the same as a Python keyword. They can have the same name as an existing function (including a built-in), but avoid this for now.\"\"\"\n",
    "  \n",
    "\n"
   ]
  }
 ],
 "metadata": {
  "kernelspec": {
   "display_name": "Python 3 (ipykernel)",
   "language": "python",
   "name": "python3"
  },
  "language_info": {
   "codemirror_mode": {
    "name": "ipython",
    "version": 3
   },
   "file_extension": ".py",
   "mimetype": "text/x-python",
   "name": "python",
   "nbconvert_exporter": "python",
   "pygments_lexer": "ipython3",
   "version": "3.10.8"
  }
 },
 "nbformat": 4,
 "nbformat_minor": 5
}
